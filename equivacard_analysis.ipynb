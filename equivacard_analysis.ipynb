{
 "cells": [
  {
   "cell_type": "markdown",
   "id": "46b688ac",
   "metadata": {},
   "source": [
    "# Flatten Equivacard event data"
   ]
  },
  {
   "cell_type": "code",
   "execution_count": null,
   "id": "d4e0c173",
   "metadata": {},
   "outputs": [],
   "source": [
    "import plotnine\n",
    "import pandas as pd\n",
    "import numpy as np\n",
    "import json\n",
    "from datetime import datetime\n",
    "import os"
   ]
  },
  {
   "cell_type": "code",
   "execution_count": null,
   "id": "df3868cc",
   "metadata": {},
   "outputs": [],
   "source": [
    "json_file_path = \"./data/05_30_2023.json\""
   ]
  },
  {
   "cell_type": "code",
   "execution_count": null,
   "id": "c653746e",
   "metadata": {},
   "outputs": [],
   "source": [
    "with open(json_file_path) as f:\n",
    "    event_json = json.load(f)"
   ]
  },
  {
   "cell_type": "markdown",
   "id": "65e18531",
   "metadata": {},
   "source": [
    "## Preview event shape"
   ]
  },
  {
   "cell_type": "code",
   "execution_count": null,
   "id": "6ffc4e6f",
   "metadata": {},
   "outputs": [],
   "source": [
    "event_json[0:3]"
   ]
  },
  {
   "cell_type": "code",
   "execution_count": null,
   "id": "cc5beceb",
   "metadata": {},
   "outputs": [],
   "source": [
    "event_json[-3:]"
   ]
  },
  {
   "cell_type": "code",
   "execution_count": null,
   "id": "4a9bfc53",
   "metadata": {},
   "outputs": [],
   "source": [
    "json_df = pd.read_json(json_file_path, dtype= {'server_timestamp': int, 'timestamp': int} )"
   ]
  },
  {
   "cell_type": "code",
   "execution_count": null,
   "id": "bde73c9b",
   "metadata": {},
   "outputs": [],
   "source": [
    "json_df"
   ]
  },
  {
   "cell_type": "markdown",
   "id": "6ef1bd91",
   "metadata": {},
   "source": [
    "## Align timestamps"
   ]
  },
  {
   "cell_type": "code",
   "execution_count": null,
   "id": "be05d1e3",
   "metadata": {},
   "outputs": [],
   "source": [
    "json_df.server_timestamp.values[0]"
   ]
  },
  {
   "cell_type": "code",
   "execution_count": null,
   "id": "c19cc0f4",
   "metadata": {},
   "outputs": [],
   "source": [
    "json_df['server_timestamp'].describe()"
   ]
  },
  {
   "cell_type": "code",
   "execution_count": null,
   "id": "92a710ed",
   "metadata": {},
   "outputs": [],
   "source": [
    "json_df['timestamp'].describe()"
   ]
  },
  {
   "cell_type": "code",
   "execution_count": null,
   "id": "755cae9d",
   "metadata": {},
   "outputs": [],
   "source": [
    "print(datetime.utcfromtimestamp(1.662995e+15/1000000).strftime('%Y-%m-%d %H:%M:%S'))"
   ]
  },
  {
   "cell_type": "code",
   "execution_count": null,
   "id": "07ded361",
   "metadata": {},
   "outputs": [],
   "source": [
    "print(datetime.utcfromtimestamp(1.662995e+09).strftime('%Y-%m-%d %H:%M:%S'))"
   ]
  },
  {
   "cell_type": "code",
   "execution_count": null,
   "id": "8b07a142",
   "metadata": {},
   "outputs": [],
   "source": [
    "1.662995e+15/(10**12)"
   ]
  },
  {
   "cell_type": "code",
   "execution_count": null,
   "id": "b24a4d01",
   "metadata": {},
   "outputs": [],
   "source": [
    "print(datetime.utcfromtimestamp(json_df.server_timestamp.min()/1000).strftime('%Y-%m-%d %H:%M:%S'))"
   ]
  },
  {
   "cell_type": "code",
   "execution_count": null,
   "id": "ddf1d2af",
   "metadata": {},
   "outputs": [],
   "source": [
    "print(datetime.utcfromtimestamp(json_df.server_timestamp.max()/1000).strftime('%Y-%m-%d %H:%M:%S'))"
   ]
  },
  {
   "cell_type": "code",
   "execution_count": null,
   "id": "539deaa4",
   "metadata": {},
   "outputs": [],
   "source": [
    "print(json_df.head(1).apply(lambda x: align_unix_convention(x), axis=1))"
   ]
  },
  {
   "cell_type": "code",
   "execution_count": null,
   "id": "0b0f0479",
   "metadata": {},
   "outputs": [],
   "source": []
  },
  {
   "cell_type": "code",
   "execution_count": null,
   "id": "8c0e1fe0",
   "metadata": {},
   "outputs": [],
   "source": [
    "def align_unix_convention(x):\n",
    "    if not np.isnan(x.server_timestamp):\n",
    "        return x.server_timestamp/1000 \n",
    "    else:\n",
    "        ts = x.timestamp\n",
    "        above_12 = np.floor(np.log10(ts)-9)\n",
    "        return ts/(10**(above_12))\n",
    "    "
   ]
  },
  {
   "cell_type": "code",
   "execution_count": null,
   "id": "79bf678c",
   "metadata": {},
   "outputs": [],
   "source": [
    "json_df['unix_timestamp_combined'] = json_df.apply(lambda x: align_unix_convention(x), axis=1)"
   ]
  },
  {
   "cell_type": "code",
   "execution_count": null,
   "id": "1aa9d06f",
   "metadata": {},
   "outputs": [],
   "source": [
    "json_df['timestamp_combined'] = json_df.apply(lambda x: datetime.utcfromtimestamp(x.unix_timestamp_combined), axis=1)"
   ]
  },
  {
   "cell_type": "code",
   "execution_count": null,
   "id": "776ef59f",
   "metadata": {},
   "outputs": [],
   "source": [
    "json_df['unix_timestamp_combined'].describe()"
   ]
  },
  {
   "cell_type": "code",
   "execution_count": null,
   "id": "ee437dab",
   "metadata": {},
   "outputs": [],
   "source": [
    "print(json_df.timestamp_combined.min())"
   ]
  },
  {
   "cell_type": "code",
   "execution_count": null,
   "id": "77833e3d",
   "metadata": {},
   "outputs": [],
   "source": [
    "print(json_df.timestamp_combined.max())"
   ]
  },
  {
   "cell_type": "code",
   "execution_count": null,
   "id": "d0b69937",
   "metadata": {},
   "outputs": [],
   "source": [
    "json_df.sample(5)"
   ]
  },
  {
   "cell_type": "markdown",
   "id": "8e9c701a",
   "metadata": {},
   "source": [
    "## Review event distribution across field categories"
   ]
  },
  {
   "cell_type": "code",
   "execution_count": null,
   "id": "7863f817",
   "metadata": {},
   "outputs": [],
   "source": [
    "json_df.groupby('activity').count()"
   ]
  },
  {
   "cell_type": "code",
   "execution_count": null,
   "id": "acd6a7e3",
   "metadata": {},
   "outputs": [],
   "source": [
    "json_df.groupby('event_name').count()"
   ]
  },
  {
   "cell_type": "code",
   "execution_count": null,
   "id": "e66296ed",
   "metadata": {},
   "outputs": [],
   "source": [
    "json_df.groupby('bucket').count()"
   ]
  },
  {
   "cell_type": "code",
   "execution_count": null,
   "id": "0e2e34ec",
   "metadata": {},
   "outputs": [],
   "source": [
    "json_df.groupby('activity')['user_id'].nunique()"
   ]
  },
  {
   "cell_type": "code",
   "execution_count": null,
   "id": "cb46ba29",
   "metadata": {},
   "outputs": [],
   "source": [
    "equiv_events_df = json_df[json_df.activity.isin(['EQUIVACARDS'])]"
   ]
  },
  {
   "cell_type": "code",
   "execution_count": null,
   "id": "eef3a2cf",
   "metadata": {},
   "outputs": [],
   "source": [
    "equiv_events_df.shape"
   ]
  },
  {
   "cell_type": "markdown",
   "id": "65f42de5",
   "metadata": {},
   "source": [
    "## Flatten object columns"
   ]
  },
  {
   "cell_type": "code",
   "execution_count": null,
   "id": "9454845f",
   "metadata": {},
   "outputs": [],
   "source": [
    "payload_df = pd.json_normalize(equiv_events_df.payload)\n",
    "# .drop('main_info.deck_version', axis=1)"
   ]
  },
  {
   "cell_type": "code",
   "execution_count": null,
   "id": "a86d8943",
   "metadata": {},
   "outputs": [],
   "source": [
    "payload_df"
   ]
  },
  {
   "cell_type": "code",
   "execution_count": null,
   "id": "323c18c9",
   "metadata": {},
   "outputs": [],
   "source": [
    "if 'deck_version' in payload_df.columns:\n",
    "    payload_df.groupby('deck_version').count()"
   ]
  },
  {
   "cell_type": "code",
   "execution_count": null,
   "id": "ee8ffafc",
   "metadata": {},
   "outputs": [],
   "source": [
    "if 'additional_info.deck_version' in payload_df.columns:\n",
    "    payload_df.groupby('additional_info.deck_version').count()"
   ]
  },
  {
   "cell_type": "code",
   "execution_count": null,
   "id": "c38dc166",
   "metadata": {},
   "outputs": [],
   "source": [
    "payload_df.sample(5)"
   ]
  },
  {
   "cell_type": "raw",
   "id": "71b20f4a",
   "metadata": {},
   "source": [
    "payload_df[payload_df[]]"
   ]
  },
  {
   "cell_type": "code",
   "execution_count": null,
   "id": "c8047039",
   "metadata": {},
   "outputs": [],
   "source": [
    "payload_df.columns = [column.replace('main_info.', '') for column in payload_df.columns]"
   ]
  },
  {
   "cell_type": "markdown",
   "id": "6506f4aa",
   "metadata": {},
   "source": [
    "`best_play`, `board` and `p1_hand` are objects that are not easy to process as is"
   ]
  },
  {
   "cell_type": "code",
   "execution_count": null,
   "id": "5bf8d343",
   "metadata": {},
   "outputs": [],
   "source": [
    "if 'main_info' in equiv_events_df.columns:\n",
    "    print('main info')"
   ]
  },
  {
   "cell_type": "code",
   "execution_count": null,
   "id": "fc23c8a0",
   "metadata": {},
   "outputs": [],
   "source": [
    "payload_df[payload_df.best_play.notna()].sample(5).best_play.values"
   ]
  },
  {
   "cell_type": "markdown",
   "id": "83bb8b07",
   "metadata": {},
   "source": [
    "`best_play` is a complex object and would require targeted processing to pull out value\n",
    "\n",
    "Length of the best play and first move of the best play seem likely useful "
   ]
  },
  {
   "cell_type": "code",
   "execution_count": null,
   "id": "0b257289",
   "metadata": {},
   "outputs": [],
   "source": [
    "best_play_df = payload_df.best_play.apply(pd.Series) "
   ]
  },
  {
   "cell_type": "code",
   "execution_count": null,
   "id": "1617479c",
   "metadata": {},
   "outputs": [],
   "source": [
    "best_play_df.columns = [f\"best_play_turn_{item}\" for item in best_play_df.columns]"
   ]
  },
  {
   "cell_type": "code",
   "execution_count": null,
   "id": "a91cb0a7",
   "metadata": {},
   "outputs": [],
   "source": [
    "best_play_df"
   ]
  },
  {
   "cell_type": "code",
   "execution_count": null,
   "id": "b239903f",
   "metadata": {},
   "outputs": [],
   "source": [
    "best_play_df[best_play_df.best_play_turn_0.notna()].head()"
   ]
  },
  {
   "cell_type": "code",
   "execution_count": null,
   "id": "aad870e9",
   "metadata": {},
   "outputs": [],
   "source": [
    "# best_play_df[\"best_play_length\"] = best_play_df.count(axis=1)"
   ]
  },
  {
   "cell_type": "code",
   "execution_count": null,
   "id": "1efa273e",
   "metadata": {},
   "outputs": [],
   "source": [
    "best_play_df[best_play_df.best_play_turn_0.notna()].head()"
   ]
  },
  {
   "cell_type": "code",
   "execution_count": null,
   "id": "ee8b2a1e",
   "metadata": {},
   "outputs": [],
   "source": [
    "best_play_0_df = pd.json_normalize(best_play_df.best_play_turn_0,errors='ignore')"
   ]
  },
  {
   "cell_type": "code",
   "execution_count": null,
   "id": "1b4ad4f6",
   "metadata": {},
   "outputs": [],
   "source": [
    "best_play_0_df"
   ]
  },
  {
   "cell_type": "code",
   "execution_count": null,
   "id": "12d38955",
   "metadata": {},
   "outputs": [],
   "source": [
    "best_play_0_df.columns = [f\"best_play_turn_0_{item}\" for item in best_play_0_df.columns]"
   ]
  },
  {
   "cell_type": "code",
   "execution_count": null,
   "id": "68c96bf5",
   "metadata": {},
   "outputs": [],
   "source": [
    "payload_df[payload_df.board.notna()].sample(5).board.values"
   ]
  },
  {
   "cell_type": "code",
   "execution_count": null,
   "id": "d4b9fd2f",
   "metadata": {},
   "outputs": [],
   "source": [
    "board_df = payload_df.board.apply(pd.Series) "
   ]
  },
  {
   "cell_type": "code",
   "execution_count": null,
   "id": "16085243",
   "metadata": {},
   "outputs": [],
   "source": [
    "board_df.columns = [\"board_left_card\", \"board_right_card\"]"
   ]
  },
  {
   "cell_type": "code",
   "execution_count": null,
   "id": "323b7dbc",
   "metadata": {},
   "outputs": [],
   "source": [
    "board_df[board_df.board_right_card.notna()].sample(5)"
   ]
  },
  {
   "cell_type": "code",
   "execution_count": null,
   "id": "ecc86ab5",
   "metadata": {},
   "outputs": [],
   "source": [
    "payload_df[payload_df.p1_hand.notna()].sample(5).p1_hand.values"
   ]
  },
  {
   "cell_type": "code",
   "execution_count": null,
   "id": "9bc5aa23",
   "metadata": {},
   "outputs": [],
   "source": [
    "p1_hand_df = payload_df.p1_hand.apply(pd.Series) "
   ]
  },
  {
   "cell_type": "code",
   "execution_count": null,
   "id": "835fdebd",
   "metadata": {},
   "outputs": [],
   "source": [
    "p1_hand_df.columns = [f\"p1_hand_card_{item}\" for item in p1_hand_df.columns]"
   ]
  },
  {
   "cell_type": "code",
   "execution_count": null,
   "id": "9cbb98d4",
   "metadata": {},
   "outputs": [],
   "source": [
    "p1_hand_df['p1_hand_size'] = p1_hand_df.count(axis=1)"
   ]
  },
  {
   "cell_type": "code",
   "execution_count": null,
   "id": "59fa98d4",
   "metadata": {},
   "outputs": [],
   "source": [
    "p1_hand_df[p1_hand_df.p1_hand_card_0.notna()].sample(5)"
   ]
  },
  {
   "cell_type": "code",
   "execution_count": null,
   "id": "4ecfa7df",
   "metadata": {},
   "outputs": [],
   "source": [
    "equiv_flat_df = pd.concat([\n",
    "    equiv_events_df.reset_index(drop=True), \n",
    "    payload_df.reset_index(drop=True),\n",
    "    best_play_df.reset_index(drop=True),\n",
    "#     best_play_0_df.reset_index(drop=True),\n",
    "    board_df.reset_index(drop=True),\n",
    "    p1_hand_df.reset_index(drop=True)\n",
    "], axis=1)"
   ]
  },
  {
   "cell_type": "code",
   "execution_count": null,
   "id": "002dfd55",
   "metadata": {},
   "outputs": [],
   "source": [
    "equiv_flat_df.sample(5)"
   ]
  },
  {
   "cell_type": "markdown",
   "id": "89eb470c",
   "metadata": {},
   "source": [
    "## Correct Connect the Drops labels"
   ]
  },
  {
   "cell_type": "code",
   "execution_count": null,
   "id": "fd0a81a1",
   "metadata": {},
   "outputs": [],
   "source": [
    "game_temp_df = equiv_flat_df[equiv_flat_df.event_name.isin([\"launched_connect_the_drops\", \"launched_equivacards\", \"user_won\", \"user_lost\"])].sort_values(by='timestamp_combined')"
   ]
  },
  {
   "cell_type": "code",
   "execution_count": null,
   "id": "4f573468",
   "metadata": {},
   "outputs": [],
   "source": [
    "game_temp_df = equiv_flat_df.sort_values(by='timestamp_combined')"
   ]
  },
  {
   "cell_type": "code",
   "execution_count": null,
   "id": "268a3941",
   "metadata": {},
   "outputs": [],
   "source": [
    "game_temp_df['game_start'] = game_temp_df.event_name.apply(lambda x: x in ['launched_connect_the_drops', 'launched_equivacards'])"
   ]
  },
  {
   "cell_type": "code",
   "execution_count": null,
   "id": "c5d9d391",
   "metadata": {},
   "outputs": [],
   "source": [
    "def correct_launch_activity(x):\n",
    "    if x == 'launched_connect_the_drops':\n",
    "        return \"CONNECT_THE_DROPS\"\n",
    "    elif x ==  'launched_equivacards':\n",
    "        return \"EQUIVACARDS\""
   ]
  },
  {
   "cell_type": "code",
   "execution_count": null,
   "id": "fa92e3f3",
   "metadata": {},
   "outputs": [],
   "source": [
    "game_temp_df['corrected_activity'] = game_temp_df.event_name.apply(correct_launch_activity)"
   ]
  },
  {
   "cell_type": "code",
   "execution_count": null,
   "id": "73a4d8a7",
   "metadata": {},
   "outputs": [],
   "source": [
    "game_temp_df['game_end'] = game_temp_df.event_name.apply(lambda x: x in ['user_won', 'user_lost'])"
   ]
  },
  {
   "cell_type": "code",
   "execution_count": null,
   "id": "e2a28226",
   "metadata": {},
   "outputs": [],
   "source": [
    "game_temp_df['user_launch_index'] = game_temp_df.groupby('user_id').game_start.cumsum()\n",
    "game_temp_df['user_game_index'] = game_temp_df.groupby('user_id').game_end.cumsum()"
   ]
  },
  {
   "cell_type": "code",
   "execution_count": null,
   "id": "ebf9e4db",
   "metadata": {},
   "outputs": [],
   "source": [
    "def correct_activity(x):\n",
    "    if x == 'launched_connect_the_drops':\n",
    "        return \"CONNECT_THE_DROPS\"\n",
    "    elif x ==  'launched_equivacards':\n",
    "        return \"EQUIVACARDS\""
   ]
  },
  {
   "cell_type": "code",
   "execution_count": null,
   "id": "848128dd",
   "metadata": {},
   "outputs": [],
   "source": [
    "game_temp_df['corrected_activity'] = game_temp_df.event_name.apply(lambda x: correct_activity(x))"
   ]
  },
  {
   "cell_type": "code",
   "execution_count": null,
   "id": "3b707b83",
   "metadata": {},
   "outputs": [],
   "source": [
    "game_by_launch_df = game_temp_df[game_temp_df['corrected_activity'].notna()][['user_id', \"user_launch_index\",\"corrected_activity\"]]"
   ]
  },
  {
   "cell_type": "code",
   "execution_count": null,
   "id": "4284daae",
   "metadata": {},
   "outputs": [],
   "source": [
    "game_by_launch_df.sample(5)"
   ]
  },
  {
   "cell_type": "code",
   "execution_count": null,
   "id": "80a867be",
   "metadata": {},
   "outputs": [],
   "source": [
    "corrected_activity_events_df = pd.merge(game_temp_df.drop('corrected_activity', axis=1), game_by_launch_df, on=[\"user_id\", \"user_launch_index\"])"
   ]
  },
  {
   "cell_type": "code",
   "execution_count": null,
   "id": "c592d41b",
   "metadata": {},
   "outputs": [],
   "source": [
    "corrected_activity_events_df.groupby('corrected_activity')['user_id'].nunique()"
   ]
  },
  {
   "cell_type": "code",
   "execution_count": null,
   "id": "9ff47bec",
   "metadata": {},
   "outputs": [],
   "source": [
    "corrected_equivacards_events = corrected_activity_events_df[corrected_activity_events_df.corrected_activity==\"EQUIVACARDS\"]"
   ]
  },
  {
   "cell_type": "code",
   "execution_count": null,
   "id": "d1a53c38",
   "metadata": {},
   "outputs": [],
   "source": [
    "corrected_equivacards_events.describe()mapping_df"
   ]
  },
  {
   "cell_type": "code",
   "execution_count": null,
   "id": "9112bbe5",
   "metadata": {},
   "outputs": [],
   "source": [
    "corrected_equivacards_events.groupby('event_name').count()"
   ]
  },
  {
   "cell_type": "code",
   "execution_count": null,
   "id": "0650a81b",
   "metadata": {},
   "outputs": [],
   "source": [
    "corrected_equivacards_events.groupby('event_name')['user_id'].nunique()"
   ]
  },
  {
   "cell_type": "code",
   "execution_count": null,
   "id": "67cb932b",
   "metadata": {},
   "outputs": [],
   "source": [
    "corrected_equivacards_events.dtypes"
   ]
  },
  {
   "cell_type": "code",
   "execution_count": null,
   "id": "afdb1b12",
   "metadata": {},
   "outputs": [],
   "source": [
    "corrected_equivacards_events.columns.sort_values()"
   ]
  },
  {
   "cell_type": "code",
   "execution_count": null,
   "id": "f2d1edf5",
   "metadata": {},
   "outputs": [],
   "source": [
    "corrected_equivacards_events.shape"
   ]
  },
  {
   "cell_type": "code",
   "execution_count": null,
   "id": "7c15669c",
   "metadata": {},
   "outputs": [],
   "source": [
    "mapping_df = pd.read_csv('./data/cognition_mapping.csv', dtype= {'user_id': int})"
   ]
  },
  {
   "cell_type": "code",
   "execution_count": null,
   "id": "196dabc9",
   "metadata": {},
   "outputs": [],
   "source": [
    "pd.merge(corrected_equivacards_events, mapping_df, left_on='user_id', right_on='user_id')"
   ]
  },
  {
   "cell_type": "code",
   "execution_count": null,
   "id": "2de9e84c",
   "metadata": {},
   "outputs": [],
   "source": [
    "os.makedirs('./data', exist_ok=True)\n",
    "corrected_equivacards_events.to_json('./data/middie_full_results.json', orient='records')"
   ]
  },
  {
   "cell_type": "code",
   "execution_count": null,
   "id": "bb322a92",
   "metadata": {},
   "outputs": [],
   "source": [
    "joined = pd.merge(corrected_equivacards_events, mapping_df, left_on='user_id', right_on='user_id')"
   ]
  },
  {
   "cell_type": "code",
   "execution_count": null,
   "id": "5537ab74",
   "metadata": {},
   "outputs": [],
   "source": [
    "to_send = joined[(joined.user_id >= 1336) & (joined.user_id <1345)]"
   ]
  },
  {
   "cell_type": "code",
   "execution_count": null,
   "id": "6d0d4fac",
   "metadata": {},
   "outputs": [],
   "source": [
    "os.makedirs('./data', exist_ok=True)\n",
    "to_send.to_csv('./data/fall_2023.csv')"
   ]
  },
  {
   "cell_type": "markdown",
   "id": "684b3987",
   "metadata": {},
   "source": [
    "## Review of game time and distribution of events per game "
   ]
  },
  {
   "cell_type": "code",
   "execution_count": null,
   "id": "9f3567c7",
   "metadata": {},
   "outputs": [],
   "source": [
    "from plotnine import ggplot, geom_point, aes, stat_smooth, facet_wrap, scale_x_date, geom_line,facet_grid, theme, element_text, labs, element_blank, ggtitle, geom_bar"
   ]
  },
  {
   "cell_type": "code",
   "execution_count": null,
   "id": "0f7f8fb4",
   "metadata": {},
   "outputs": [],
   "source": [
    "(ggplot(\n",
    "   corrected_equivacards_events, aes('timestamp_combined', 'factor(user_id)', color= 'factor(user_id)'))\n",
    "+ geom_point(show_legend=False)\n",
    " + geom_line(show_legend=False)\n",
    "  + labs(x= \"date\", y=\"User Id\")\n",
    " + ggtitle(\"Game by user_id vs date\")\n",
    " + theme(figure_size=(6, 4), axis_text_x=element_text(rotation=90, hjust=1)) \n",
    ")"
   ]
  },
  {
   "cell_type": "code",
   "execution_count": null,
   "id": "83f93126",
   "metadata": {},
   "outputs": [],
   "source": [
    "(ggplot(\n",
    "   corrected_equivacards_events, aes('user_game_index', fill= 'factor(event_name)'))\n",
    "+ geom_bar(stat='count', position= 'stack')\n",
    " + facet_grid('user_id ~', scales ='free', )\n",
    " + theme(figure_size=(4, 10), axis_text_x=element_text(rotation=90, hjust=1), strip_text_y = element_text(angle = 0)) \n",
    " + labs(x= \"User Game Index\", y=\"Event count\")\n",
    " + ggtitle(\"Game events by user_id\")\n",
    ")"
   ]
  },
  {
   "cell_type": "markdown",
   "id": "2ce39936",
   "metadata": {},
   "source": [
    "## Cursory comparison of best move 0 to taken move 0"
   ]
  },
  {
   "cell_type": "code",
   "execution_count": null,
   "id": "2a060f20",
   "metadata": {},
   "outputs": [],
   "source": [
    "corrected_equivacards_events['previous_best_move_0'] = corrected_equivacards_events.groupby('user_id').best_play_turn_0_label.shift(2).apply(lambda x: x.replace(',', '.') if type(x)==str else None ) \n",
    "corrected_equivacards_events['made_best_move_0'] = corrected_equivacards_events.apply(lambda x: x.previous_best_move_0==x.card, axis =1) "
   ]
  },
  {
   "cell_type": "code",
   "execution_count": null,
   "id": "9b691040",
   "metadata": {},
   "outputs": [],
   "source": [
    "corrected_equivacards_events[['event_name','card', 'best_play_turn_0_label', 'previous_best_move_0', 'made_best_move_0']].head(15)"
   ]
  },
  {
   "cell_type": "code",
   "execution_count": null,
   "id": "8e2b3762",
   "metadata": {},
   "outputs": [],
   "source": [
    "corrected_equivacards_events[corrected_equivacards_events.event_name=='user_turn'].groupby(['user_id', 'made_best_move_0'])['_id'].count()"
   ]
  },
  {
   "cell_type": "code",
   "execution_count": null,
   "id": "cdde5c9d",
   "metadata": {},
   "outputs": [],
   "source": [
    "corrected_equivacards_events[corrected_equivacards_events.event_name.isin(['user_won', 'user_lost'])].groupby(['user_id', 'event_name'])['_id'].count()"
   ]
  },
  {
   "cell_type": "code",
   "execution_count": null,
   "id": "5825451e",
   "metadata": {},
   "outputs": [],
   "source": [
    "corrected_equivacards_events[corrected_equivacards_events.event_name.isin(['user_won', 'user_lost'])].groupby(['event_name'])['_id'].count()"
   ]
  },
  {
   "cell_type": "code",
   "execution_count": null,
   "id": "e306e1c4",
   "metadata": {},
   "outputs": [],
   "source": [
    "corrected_equivacards_events[corrected_equivacards_events.event_name.isin(['user_turn'])].groupby(['user_game_index'])['_id'].count()"
   ]
  },
  {
   "cell_type": "code",
   "execution_count": null,
   "id": "8e21440a",
   "metadata": {},
   "outputs": [],
   "source": [
    "corrected_equivacards_events.groupby('deck_version').count()"
   ]
  },
  {
   "cell_type": "code",
   "execution_count": null,
   "id": "c0779673",
   "metadata": {},
   "outputs": [],
   "source": []
  },
  {
   "cell_type": "code",
   "execution_count": null,
   "id": "f4f77ecf",
   "metadata": {},
   "outputs": [],
   "source": []
  },
  {
   "cell_type": "code",
   "execution_count": null,
   "id": "d04abe3a",
   "metadata": {},
   "outputs": [],
   "source": []
  },
  {
   "cell_type": "code",
   "execution_count": null,
   "id": "7d12c653",
   "metadata": {},
   "outputs": [],
   "source": []
  },
  {
   "cell_type": "code",
   "execution_count": null,
   "id": "d385c357",
   "metadata": {},
   "outputs": [],
   "source": []
  },
  {
   "cell_type": "code",
   "execution_count": null,
   "id": "834305bb",
   "metadata": {},
   "outputs": [],
   "source": []
  },
  {
   "cell_type": "code",
   "execution_count": null,
   "id": "88bc540e",
   "metadata": {},
   "outputs": [],
   "source": []
  },
  {
   "cell_type": "code",
   "execution_count": null,
   "id": "730f099c",
   "metadata": {},
   "outputs": [],
   "source": []
  },
  {
   "cell_type": "code",
   "execution_count": null,
   "id": "7b7cfb31",
   "metadata": {},
   "outputs": [],
   "source": []
  },
  {
   "cell_type": "code",
   "execution_count": null,
   "id": "d070bee4",
   "metadata": {},
   "outputs": [],
   "source": []
  },
  {
   "cell_type": "code",
   "execution_count": null,
   "id": "47ad6523",
   "metadata": {},
   "outputs": [],
   "source": []
  }
 ],
 "metadata": {
  "kernelspec": {
   "display_name": "Python 3 (ipykernel)",
   "language": "python",
   "name": "python3"
  },
  "language_info": {
   "codemirror_mode": {
    "name": "ipython",
    "version": 3
   },
   "file_extension": ".py",
   "mimetype": "text/x-python",
   "name": "python",
   "nbconvert_exporter": "python",
   "pygments_lexer": "ipython3",
   "version": "3.10.6"
  }
 },
 "nbformat": 4,
 "nbformat_minor": 5
}
