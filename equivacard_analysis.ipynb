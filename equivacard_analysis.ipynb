{
 "cells": [
  {
   "cell_type": "markdown",
   "id": "46b688ac",
   "metadata": {},
   "source": [
    "# Flatten Equivacard event data"
   ]
  },
  {
   "cell_type": "code",
   "execution_count": null,
   "id": "d4e0c173",
   "metadata": {},
   "outputs": [],
   "source": [
    "import plotnine\n",
    "import pandas as pd\n",
    "import numpy as np\n",
    "import json\n",
    "from datetime import datetime\n",
    "import os"
   ]
  },
  {
   "cell_type": "code",
   "execution_count": null,
   "id": "e7b3b2aa",
   "metadata": {},
   "outputs": [],
   "source": [
    "import saga_py_aws\n",
    "import saga_py_mongo"
   ]
  },
  {
   "cell_type": "code",
   "execution_count": null,
   "id": "ba383bb6",
   "metadata": {},
   "outputs": [],
   "source": [
    "secret = saga_py_aws.get_mongo_uri_secret('prod')\n",
    "client = saga_py_mongo.get_mongo_client(secret)"
   ]
  },
  {
   "cell_type": "code",
   "execution_count": null,
   "id": "4d97b7e4",
   "metadata": {},
   "outputs": [],
   "source": [
    "mapping_df = pd.read_csv('./data/cognition_mapping.csv', dtype= {'user_id': str})"
   ]
  },
  {
   "cell_type": "code",
   "execution_count": null,
   "id": "85980316",
   "metadata": {},
   "outputs": [],
   "source": [
    "mapping_df"
   ]
  },
  {
   "cell_type": "code",
   "execution_count": null,
   "id": "2c2abe89",
   "metadata": {},
   "outputs": [],
   "source": [
    "query = [\n",
    "    {\"$match\": {\"activity\":\"EQUIVACARDS\"}},\n",
    "    {\"$match\": {\"user_id\": {\"$in\": list(mapping_df.user_id.values)}}}\n",
    "     ]"
   ]
  },
  {
   "cell_type": "code",
   "execution_count": null,
   "id": "05a1d423",
   "metadata": {},
   "outputs": [],
   "source": [
    "results = saga_py_mongo.aggregate_query_mongo(aggregate_query=query, collection_client=client['xlr8_beta']['analytics_simple_event_data'])"
   ]
  },
  {
   "cell_type": "code",
   "execution_count": null,
   "id": "99a7a646",
   "metadata": {},
   "outputs": [],
   "source": [
    "event_json = results"
   ]
  },
  {
   "cell_type": "code",
   "execution_count": null,
   "id": "c0607190",
   "metadata": {},
   "outputs": [],
   "source": [
    "results[0:10]"
   ]
  },
  {
   "cell_type": "code",
   "execution_count": null,
   "id": "995d0880",
   "metadata": {},
   "outputs": [],
   "source": [
    "example_id='1339'\n",
    "example= [result for result in results if result['user_id']==example_id]"
   ]
  },
  {
   "cell_type": "code",
   "execution_count": null,
   "id": "5b80c797",
   "metadata": {},
   "outputs": [],
   "source": [
    "len(example)"
   ]
  },
  {
   "cell_type": "raw",
   "id": "bfb46272",
   "metadata": {},
   "source": [
    "json_file_path = \"./data/05_30_2023.json\""
   ]
  },
  {
   "cell_type": "raw",
   "id": "68d57a96",
   "metadata": {},
   "source": [
    "with open(json_file_path) as f:\n",
    "    event_json = json.load(f)\n",
    "event_copy = event_json.copy()"
   ]
  },
  {
   "cell_type": "code",
   "execution_count": null,
   "id": "5a7bf6c2",
   "metadata": {},
   "outputs": [],
   "source": []
  },
  {
   "cell_type": "code",
   "execution_count": null,
   "id": "d6916ecc",
   "metadata": {},
   "outputs": [],
   "source": [
    "example_id='1339'\n",
    "example2= [result for result in event_json if result['user_id']==example_id]"
   ]
  },
  {
   "cell_type": "code",
   "execution_count": null,
   "id": "17e9ce71",
   "metadata": {},
   "outputs": [],
   "source": [
    "len(example2)"
   ]
  },
  {
   "cell_type": "markdown",
   "id": "65e18531",
   "metadata": {},
   "source": [
    "## Preview event shape"
   ]
  },
  {
   "cell_type": "code",
   "execution_count": null,
   "id": "6ffc4e6f",
   "metadata": {},
   "outputs": [],
   "source": [
    "event_json[0:3]"
   ]
  },
  {
   "cell_type": "code",
   "execution_count": null,
   "id": "cc5beceb",
   "metadata": {},
   "outputs": [],
   "source": [
    "event_json[-1]"
   ]
  },
  {
   "cell_type": "code",
   "execution_count": null,
   "id": "2332de99",
   "metadata": {},
   "outputs": [],
   "source": [
    "def unnest_dict(event):\n",
    "    event_copy = event.copy()\n",
    "    if type(event) == dict:\n",
    "        keys = event.keys()\n",
    "        for key in keys:\n",
    "            if type(event_copy[key]) == dict:\n",
    "                event_copy.update(unnest_dict(event_copy[key]))\n",
    "                del event_copy[key]\n",
    "    return event_copy\n",
    "    "
   ]
  },
  {
   "cell_type": "code",
   "execution_count": null,
   "id": "b8cd2c5e",
   "metadata": {},
   "outputs": [],
   "source": [
    "unnest_dict(event_json[4])"
   ]
  },
  {
   "cell_type": "code",
   "execution_count": null,
   "id": "d2769714",
   "metadata": {},
   "outputs": [],
   "source": [
    "event_json[4]"
   ]
  },
  {
   "cell_type": "code",
   "execution_count": null,
   "id": "12d7b539",
   "metadata": {},
   "outputs": [],
   "source": [
    "flat_events = []\n",
    "for event in event_json:\n",
    "    flat_events.append(unnest_dict(event))"
   ]
  },
  {
   "cell_type": "code",
   "execution_count": null,
   "id": "4672a9e1",
   "metadata": {},
   "outputs": [],
   "source": [
    "json_df = pd.json_normalize(flat_events, meta=['_id.$oid'])\n",
    "json_df.head()"
   ]
  },
  {
   "cell_type": "code",
   "execution_count": null,
   "id": "7ce7eead",
   "metadata": {},
   "outputs": [],
   "source": [
    "json_df.sample(1).to_dict('records')"
   ]
  },
  {
   "cell_type": "markdown",
   "id": "6ef1bd91",
   "metadata": {},
   "source": [
    "## Align timestamps"
   ]
  },
  {
   "cell_type": "code",
   "execution_count": null,
   "id": "be05d1e3",
   "metadata": {},
   "outputs": [],
   "source": [
    "json_df.server_timestamp.values[0]"
   ]
  },
  {
   "cell_type": "code",
   "execution_count": null,
   "id": "c19cc0f4",
   "metadata": {},
   "outputs": [],
   "source": [
    "json_df['server_timestamp'].describe()"
   ]
  },
  {
   "cell_type": "code",
   "execution_count": null,
   "id": "92a710ed",
   "metadata": {},
   "outputs": [],
   "source": [
    "json_df['timestamp'].describe()"
   ]
  },
  {
   "cell_type": "code",
   "execution_count": null,
   "id": "755cae9d",
   "metadata": {},
   "outputs": [],
   "source": [
    "print(datetime.utcfromtimestamp(1.662995e+15/1000000).strftime('%Y-%m-%d %H:%M:%S'))"
   ]
  },
  {
   "cell_type": "code",
   "execution_count": null,
   "id": "07ded361",
   "metadata": {},
   "outputs": [],
   "source": [
    "print(datetime.utcfromtimestamp(1.662995e+09).strftime('%Y-%m-%d %H:%M:%S'))"
   ]
  },
  {
   "cell_type": "code",
   "execution_count": null,
   "id": "b24a4d01",
   "metadata": {},
   "outputs": [],
   "source": [
    "print(datetime.utcfromtimestamp(json_df.server_timestamp.min()/1000).strftime('%Y-%m-%d %H:%M:%S'))"
   ]
  },
  {
   "cell_type": "code",
   "execution_count": null,
   "id": "ddf1d2af",
   "metadata": {},
   "outputs": [],
   "source": [
    "print(datetime.utcfromtimestamp(json_df.server_timestamp.max()/1000).strftime('%Y-%m-%d %H:%M:%S'))"
   ]
  },
  {
   "cell_type": "code",
   "execution_count": null,
   "id": "664a432b",
   "metadata": {},
   "outputs": [],
   "source": [
    "def align_unix_convention(x):\n",
    "    if not np.isnan(x.server_timestamp):\n",
    "        return x.server_timestamp/1000 \n",
    "    else:\n",
    "        ts = x.timestamp\n",
    "        above_12 = np.floor(np.log10(ts)-9)\n",
    "        return ts/(10**(above_12))\n",
    "    "
   ]
  },
  {
   "cell_type": "code",
   "execution_count": null,
   "id": "539deaa4",
   "metadata": {},
   "outputs": [],
   "source": [
    "print(json_df.head(1).apply(lambda x: align_unix_convention(x), axis=1))"
   ]
  },
  {
   "cell_type": "code",
   "execution_count": null,
   "id": "79bf678c",
   "metadata": {},
   "outputs": [],
   "source": [
    "json_df['unix_timestamp_combined'] = json_df.apply(lambda x: align_unix_convention(x), axis=1)"
   ]
  },
  {
   "cell_type": "code",
   "execution_count": null,
   "id": "1aa9d06f",
   "metadata": {},
   "outputs": [],
   "source": [
    "json_df['timestamp_combined'] = json_df.apply(lambda x: datetime.utcfromtimestamp(x.unix_timestamp_combined), axis=1)"
   ]
  },
  {
   "cell_type": "code",
   "execution_count": null,
   "id": "776ef59f",
   "metadata": {},
   "outputs": [],
   "source": [
    "json_df['unix_timestamp_combined'].describe()"
   ]
  },
  {
   "cell_type": "code",
   "execution_count": null,
   "id": "ee437dab",
   "metadata": {},
   "outputs": [],
   "source": [
    "print(json_df.timestamp_combined.min())"
   ]
  },
  {
   "cell_type": "code",
   "execution_count": null,
   "id": "77833e3d",
   "metadata": {},
   "outputs": [],
   "source": [
    "print(json_df.timestamp_combined.max())"
   ]
  },
  {
   "cell_type": "code",
   "execution_count": null,
   "id": "d0b69937",
   "metadata": {},
   "outputs": [],
   "source": [
    "json_df.sample(5)"
   ]
  },
  {
   "cell_type": "markdown",
   "id": "8e9c701a",
   "metadata": {},
   "source": [
    "## Review event distribution across field categories"
   ]
  },
  {
   "cell_type": "code",
   "execution_count": null,
   "id": "7863f817",
   "metadata": {},
   "outputs": [],
   "source": [
    "json_df.groupby('activity').count()"
   ]
  },
  {
   "cell_type": "code",
   "execution_count": null,
   "id": "acd6a7e3",
   "metadata": {},
   "outputs": [],
   "source": [
    "json_df.groupby('event_name').count()"
   ]
  },
  {
   "cell_type": "code",
   "execution_count": null,
   "id": "e66296ed",
   "metadata": {},
   "outputs": [],
   "source": [
    "json_df.groupby('bucket').count()"
   ]
  },
  {
   "cell_type": "code",
   "execution_count": null,
   "id": "0e2e34ec",
   "metadata": {},
   "outputs": [],
   "source": [
    "json_df.groupby('activity')['user_id'].nunique()"
   ]
  },
  {
   "cell_type": "code",
   "execution_count": null,
   "id": "cb46ba29",
   "metadata": {},
   "outputs": [],
   "source": [
    "equiv_events_df = json_df[json_df.activity.isin(['EQUIVACARDS'])]"
   ]
  },
  {
   "cell_type": "code",
   "execution_count": null,
   "id": "eef3a2cf",
   "metadata": {},
   "outputs": [],
   "source": [
    "equiv_events_df.shape"
   ]
  },
  {
   "cell_type": "code",
   "execution_count": null,
   "id": "15bb8958",
   "metadata": {},
   "outputs": [],
   "source": [
    "equiv_events_df.columns"
   ]
  },
  {
   "cell_type": "markdown",
   "id": "65f42de5",
   "metadata": {},
   "source": [
    "## Flatten object columns"
   ]
  },
  {
   "cell_type": "code",
   "execution_count": null,
   "id": "c38dc166",
   "metadata": {},
   "outputs": [],
   "source": [
    "equiv_events_df.sample(5)"
   ]
  },
  {
   "cell_type": "code",
   "execution_count": null,
   "id": "fc23c8a0",
   "metadata": {},
   "outputs": [],
   "source": [
    "equiv_events_df[equiv_events_df.best_play.notna()].sample(5).best_play.values"
   ]
  },
  {
   "cell_type": "code",
   "execution_count": null,
   "id": "06e9031f",
   "metadata": {},
   "outputs": [],
   "source": [
    "equiv_events_df.best_play"
   ]
  },
  {
   "cell_type": "markdown",
   "id": "83bb8b07",
   "metadata": {},
   "source": [
    "`best_play` is a complex object and would require targeted processing to pull out value\n",
    "\n",
    "Length of the best play and first move of the best play seem likely useful "
   ]
  },
  {
   "cell_type": "code",
   "execution_count": null,
   "id": "0b257289",
   "metadata": {},
   "outputs": [],
   "source": [
    "best_play_df = equiv_events_df.best_play.apply(pd.Series) "
   ]
  },
  {
   "cell_type": "code",
   "execution_count": null,
   "id": "1617479c",
   "metadata": {},
   "outputs": [],
   "source": [
    "best_play_df.columns = [f\"best_play_turn_{item}\" for item in best_play_df.columns]"
   ]
  },
  {
   "cell_type": "code",
   "execution_count": null,
   "id": "a91cb0a7",
   "metadata": {},
   "outputs": [],
   "source": [
    "best_play_df"
   ]
  },
  {
   "cell_type": "code",
   "execution_count": null,
   "id": "b239903f",
   "metadata": {},
   "outputs": [],
   "source": [
    "best_play_df[best_play_df.best_play_turn_0.notna()].head()"
   ]
  },
  {
   "cell_type": "code",
   "execution_count": null,
   "id": "1efa273e",
   "metadata": {},
   "outputs": [],
   "source": [
    "best_play_df[best_play_df.best_play_turn_0.notna()].head()"
   ]
  },
  {
   "cell_type": "code",
   "execution_count": null,
   "id": "ee8b2a1e",
   "metadata": {},
   "outputs": [],
   "source": [
    "best_play_0_df = pd.json_normalize(best_play_df.best_play_turn_0,errors='ignore')"
   ]
  },
  {
   "cell_type": "code",
   "execution_count": null,
   "id": "1b4ad4f6",
   "metadata": {},
   "outputs": [],
   "source": [
    "best_play_0_df"
   ]
  },
  {
   "cell_type": "code",
   "execution_count": null,
   "id": "12d38955",
   "metadata": {},
   "outputs": [],
   "source": [
    "best_play_0_df.columns = [f\"best_play_turn_0_{item}\" for item in best_play_0_df.columns]"
   ]
  },
  {
   "cell_type": "code",
   "execution_count": null,
   "id": "68c96bf5",
   "metadata": {},
   "outputs": [],
   "source": [
    "equiv_events_df[equiv_events_df.board.notna()].sample(5).board.values"
   ]
  },
  {
   "cell_type": "code",
   "execution_count": null,
   "id": "d4b9fd2f",
   "metadata": {},
   "outputs": [],
   "source": [
    "board_df = equiv_events_df.board.apply(pd.Series) "
   ]
  },
  {
   "cell_type": "code",
   "execution_count": null,
   "id": "16085243",
   "metadata": {},
   "outputs": [],
   "source": [
    "board_df.columns = [\"board_left_card\", \"board_right_card\"]"
   ]
  },
  {
   "cell_type": "code",
   "execution_count": null,
   "id": "323b7dbc",
   "metadata": {},
   "outputs": [],
   "source": [
    "board_df[board_df.board_right_card.notna()].sample(5)"
   ]
  },
  {
   "cell_type": "code",
   "execution_count": null,
   "id": "ecc86ab5",
   "metadata": {},
   "outputs": [],
   "source": [
    "equiv_events_df[equiv_events_df.p1_hand.notna()].sample(5).p1_hand.values"
   ]
  },
  {
   "cell_type": "code",
   "execution_count": null,
   "id": "9bc5aa23",
   "metadata": {},
   "outputs": [],
   "source": [
    "p1_hand_df = equiv_events_df.p1_hand.apply(pd.Series) "
   ]
  },
  {
   "cell_type": "code",
   "execution_count": null,
   "id": "835fdebd",
   "metadata": {},
   "outputs": [],
   "source": [
    "p1_hand_df.columns = [f\"p1_hand_card_{item}\" for item in p1_hand_df.columns]"
   ]
  },
  {
   "cell_type": "code",
   "execution_count": null,
   "id": "9cbb98d4",
   "metadata": {},
   "outputs": [],
   "source": [
    "p1_hand_df['p1_hand_size'] = p1_hand_df.count(axis=1)"
   ]
  },
  {
   "cell_type": "code",
   "execution_count": null,
   "id": "59fa98d4",
   "metadata": {},
   "outputs": [],
   "source": [
    "p1_hand_df[p1_hand_df.p1_hand_card_0.notna()].sample(5)"
   ]
  },
  {
   "cell_type": "code",
   "execution_count": null,
   "id": "4ecfa7df",
   "metadata": {},
   "outputs": [],
   "source": [
    "equiv_flat_df = pd.concat([\n",
    "    equiv_events_df.reset_index(drop=True), \n",
    "    best_play_df.reset_index(drop=True),\n",
    "    best_play_0_df.reset_index(drop=True),\n",
    "    board_df.reset_index(drop=True),\n",
    "    p1_hand_df.reset_index(drop=True)\n",
    "], axis=1)"
   ]
  },
  {
   "cell_type": "code",
   "execution_count": null,
   "id": "002dfd55",
   "metadata": {},
   "outputs": [],
   "source": [
    "equiv_flat_df.sample(5)"
   ]
  },
  {
   "cell_type": "markdown",
   "id": "89eb470c",
   "metadata": {},
   "source": [
    "## Correct Connect the Drops labels"
   ]
  },
  {
   "cell_type": "code",
   "execution_count": null,
   "id": "fd0a81a1",
   "metadata": {},
   "outputs": [],
   "source": [
    "game_temp_df = equiv_flat_df.sort_values(by='timestamp_combined')\n",
    "# [equiv_flat_df.event_name.isin([\"launched_connect_the_drops\", \"launched_equivacards\", \"user_won\", \"user_lost\"])]\n",
    "# .sort_values(by='timestamp_combined')"
   ]
  },
  {
   "cell_type": "code",
   "execution_count": null,
   "id": "c2bba746",
   "metadata": {},
   "outputs": [],
   "source": [
    "equiv_flat_df"
   ]
  },
  {
   "cell_type": "code",
   "execution_count": null,
   "id": "92db2eae",
   "metadata": {},
   "outputs": [],
   "source": [
    "game_temp_df"
   ]
  },
  {
   "cell_type": "code",
   "execution_count": null,
   "id": "4f573468",
   "metadata": {},
   "outputs": [],
   "source": [
    "game_temp_df = equiv_flat_df.sort_values(by='timestamp_combined')"
   ]
  },
  {
   "cell_type": "code",
   "execution_count": null,
   "id": "268a3941",
   "metadata": {},
   "outputs": [],
   "source": [
    "game_temp_df['game_launch'] = game_temp_df.event_name.apply(lambda x: x in ['launched_connect_the_drops', 'launched_equivacards'])"
   ]
  },
  {
   "cell_type": "code",
   "execution_count": null,
   "id": "7e065b39",
   "metadata": {},
   "outputs": [],
   "source": [
    "game_temp_df['game_start'] = game_temp_df.event_name.apply(lambda x: x in ['launched_equivacards', 'initial_game_state', 'play_again_yes'])"
   ]
  },
  {
   "cell_type": "code",
   "execution_count": null,
   "id": "3e3eadb7",
   "metadata": {},
   "outputs": [],
   "source": [
    "game_temp_df['game_start_time'] = game_temp_df.apply(lambda x: x.timestamp_combined if x.game_start else None , axis=1 )"
   ]
  },
  {
   "cell_type": "code",
   "execution_count": null,
   "id": "c5d9d391",
   "metadata": {},
   "outputs": [],
   "source": [
    "def correct_launch_activity(x):\n",
    "    if x == 'launched_connect_the_drops':\n",
    "        return \"CONNECT_THE_DROPS\"\n",
    "    elif x ==  'launched_equivacards':\n",
    "        return \"EQUIVACARDS\""
   ]
  },
  {
   "cell_type": "code",
   "execution_count": null,
   "id": "fa92e3f3",
   "metadata": {},
   "outputs": [],
   "source": [
    "game_temp_df['corrected_activity'] = game_temp_df.event_name.apply(correct_launch_activity)"
   ]
  },
  {
   "cell_type": "code",
   "execution_count": null,
   "id": "73a4d8a7",
   "metadata": {},
   "outputs": [],
   "source": [
    "game_temp_df['game_end'] = game_temp_df.event_name.apply(lambda x: x in ['user_won', 'user_lost'])"
   ]
  },
  {
   "cell_type": "code",
   "execution_count": null,
   "id": "1d46573f",
   "metadata": {},
   "outputs": [],
   "source": [
    "game_temp_df['game_end_time'] = game_temp_df.apply(lambda x: x.timestamp_combined if x.game_end else None , axis=1 )"
   ]
  },
  {
   "cell_type": "code",
   "execution_count": null,
   "id": "7ce46eb0",
   "metadata": {},
   "outputs": [],
   "source": [
    "game_temp_df['user_turn_start'] = game_temp_df.event_name.apply(lambda x: x in ['user_turn'])"
   ]
  },
  {
   "cell_type": "code",
   "execution_count": null,
   "id": "c625363e",
   "metadata": {},
   "outputs": [],
   "source": [
    "game_temp_df['user_turn_start_time'] = game_temp_df.apply(lambda x: x.timestamp_combined if x.user_turn_start else None , axis=1 )"
   ]
  },
  {
   "cell_type": "code",
   "execution_count": null,
   "id": "f1dd0f24",
   "metadata": {},
   "outputs": [],
   "source": [
    "game_temp_df['user_turn_end'] = game_temp_df.event_name.apply(lambda x: x in ['user_drew_card', 'user_won', 'user_lost'])"
   ]
  },
  {
   "cell_type": "code",
   "execution_count": null,
   "id": "fb169172",
   "metadata": {},
   "outputs": [],
   "source": [
    "game_temp_df['user_turn_end_time'] = game_temp_df.apply(lambda x: x.timestamp_combined if x.user_turn_end else None , axis=1 )"
   ]
  },
  {
   "cell_type": "code",
   "execution_count": null,
   "id": "69e644df",
   "metadata": {},
   "outputs": [],
   "source": [
    "game_temp_df['user_took_action'] = game_temp_df.event_name.apply(lambda x: x in ['user_played_card', 'user_drew_card', 'play_not_allowed'])"
   ]
  },
  {
   "cell_type": "code",
   "execution_count": null,
   "id": "71377721",
   "metadata": {},
   "outputs": [],
   "source": [
    "game_temp_df['user_action_time'] = game_temp_df.apply(lambda x: x.timestamp_combined if x.user_took_action else None , axis=1 )"
   ]
  },
  {
   "cell_type": "code",
   "execution_count": null,
   "id": "e2a28226",
   "metadata": {},
   "outputs": [],
   "source": [
    "game_temp_df['user_launch_index'] = game_temp_df.groupby('user_id').game_launch.cumsum()\n",
    "game_temp_df['user_game_index'] = game_temp_df.groupby('user_id').game_start.cumsum()"
   ]
  },
  {
   "cell_type": "code",
   "execution_count": null,
   "id": "09386c7a",
   "metadata": {},
   "outputs": [],
   "source": [
    "game_temp_df['user_turn_start_index'] = game_temp_df.groupby(['user_id','user_game_index']).user_turn_start.cumsum()\n",
    "game_temp_df['user_turn_end_index'] = game_temp_df.groupby(['user_id','user_game_index']).user_turn_end.cumsum()"
   ]
  },
  {
   "cell_type": "code",
   "execution_count": null,
   "id": "a3a6da41",
   "metadata": {},
   "outputs": [],
   "source": [
    "game_temp_df['turn_id'] = game_temp_df.apply(lambda x: '-'.join([str(x.user_turn_start_index), str(x.user_turn_end_index)]), axis=1)"
   ]
  },
  {
   "cell_type": "code",
   "execution_count": null,
   "id": "24ab3444",
   "metadata": {},
   "outputs": [],
   "source": [
    "game_temp_df['match_type'] = game_temp_df.apply(lambda x: 'color' if x.match_color is True else 'value' if x.match_value is True else 'algebraic' if x.match_algebraic is True else None, axis=1)"
   ]
  },
  {
   "cell_type": "code",
   "execution_count": null,
   "id": "d4506e03",
   "metadata": {},
   "outputs": [],
   "source": [
    "game_temp_df.groupby(['user_id','user_game_index'])[['match_type']]"
   ]
  },
  {
   "cell_type": "code",
   "execution_count": null,
   "id": "2784945e",
   "metadata": {},
   "outputs": [],
   "source": [
    "game_temp_df['last_match_type'] = game_temp_df.groupby(['user_id','user_game_index', 'turn_id', 'event_name']).match_type.shift(1)"
   ]
  },
  {
   "cell_type": "code",
   "execution_count": null,
   "id": "a641640c",
   "metadata": {},
   "outputs": [],
   "source": [
    "game_temp_df['match_type_change'] = game_temp_df.apply(lambda x: x.match_type != x.last_match_type if type(x.last_match_type) == str else None, axis=1)"
   ]
  },
  {
   "cell_type": "code",
   "execution_count": null,
   "id": "60dcd766",
   "metadata": {},
   "outputs": [],
   "source": [
    "game_temp_df['comp_turn'] = game_temp_df.apply(lambda x: x.user_turn_start_index == x.user_turn_end_index, axis=1)\n",
    "game_temp_df['user_turn'] = ~game_temp_df['comp_turn']"
   ]
  },
  {
   "cell_type": "code",
   "execution_count": null,
   "id": "5ff5fd16",
   "metadata": {},
   "outputs": [],
   "source": [
    "game_temp_df[game_temp_df.user_id == '4492'][['timestamp_combined','event_name', 'corrected_activity', 'game_end', 'game_start', 'user_launch_index', 'user_game_index', 'user_turn_start_time', 'user_turn_end_time', 'turn_id', 'user_turn_start_index', 'match_type', 'last_match_type', 'match_type_change', 'match_color', 'match_value', 'match_algebraic']].to_csv('./4492.csv')"
   ]
  },
  {
   "cell_type": "code",
   "execution_count": null,
   "id": "8c5a6fa0",
   "metadata": {},
   "outputs": [],
   "source": [
    "game_temp_df[game_temp_df.user_id == '1336'][['timestamp_combined','event_name', 'user_game_index', 'user_turn_start', 'user_turn_end', 'user_turn_start_index', 'user_turn_end_index', 'turn_id', 'comp_turn', 'user_turn', 'game_end_time', 'game_start_time', 'user_turn_start_index']].to_csv('./1336.csv')"
   ]
  },
  {
   "cell_type": "code",
   "execution_count": null,
   "id": "ebf9e4db",
   "metadata": {},
   "outputs": [],
   "source": [
    "def correct_activity(x):\n",
    "    if x == 'launched_connect_the_drops':\n",
    "        return \"CONNECT_THE_DROPS\"\n",
    "    elif x ==  'launched_equivacards':\n",
    "        return \"EQUIVACARDS\""
   ]
  },
  {
   "cell_type": "code",
   "execution_count": null,
   "id": "848128dd",
   "metadata": {},
   "outputs": [],
   "source": [
    "game_temp_df['corrected_activity'] = game_temp_df.event_name.apply(lambda x: correct_activity(x))"
   ]
  },
  {
   "cell_type": "code",
   "execution_count": null,
   "id": "3b707b83",
   "metadata": {},
   "outputs": [],
   "source": [
    "game_by_launch_df = game_temp_df[game_temp_df['corrected_activity'].notna()][['user_id', \"user_launch_index\",\"corrected_activity\"]]"
   ]
  },
  {
   "cell_type": "code",
   "execution_count": null,
   "id": "4284daae",
   "metadata": {},
   "outputs": [],
   "source": [
    "game_by_launch_df.sample(5)"
   ]
  },
  {
   "cell_type": "code",
   "execution_count": null,
   "id": "80a867be",
   "metadata": {},
   "outputs": [],
   "source": [
    "corrected_activity_events_df = pd.merge(game_temp_df.drop('corrected_activity', axis=1), game_by_launch_df, on=[\"user_id\", \"user_launch_index\"])"
   ]
  },
  {
   "cell_type": "code",
   "execution_count": null,
   "id": "c592d41b",
   "metadata": {},
   "outputs": [],
   "source": [
    "corrected_activity_events_df.groupby('corrected_activity')['user_id'].nunique()"
   ]
  },
  {
   "cell_type": "code",
   "execution_count": null,
   "id": "9ff47bec",
   "metadata": {},
   "outputs": [],
   "source": [
    "corrected_equivacards_events = corrected_activity_events_df[corrected_activity_events_df.corrected_activity==\"EQUIVACARDS\"]"
   ]
  },
  {
   "cell_type": "code",
   "execution_count": null,
   "id": "9fedcae4",
   "metadata": {},
   "outputs": [],
   "source": [
    "assert corrected_equivacards_events[corrected_equivacards_events.user_id=='4492'].user_game_index.max()==52"
   ]
  },
  {
   "cell_type": "code",
   "execution_count": null,
   "id": "569fbcf6",
   "metadata": {},
   "outputs": [],
   "source": [
    "assert corrected_equivacards_events[corrected_equivacards_events.user_id=='1336'].user_game_index.max()==9"
   ]
  },
  {
   "cell_type": "raw",
   "id": "090b1284",
   "metadata": {
    "ExecuteTime": {
     "end_time": "2023-06-12T19:48:47.045044Z",
     "start_time": "2023-06-12T19:48:47.041850Z"
    }
   },
   "source": [
    "corrected_equivacards_events = corrected_activity_events_df"
   ]
  },
  {
   "cell_type": "code",
   "execution_count": null,
   "id": "d1a53c38",
   "metadata": {},
   "outputs": [],
   "source": [
    "corrected_equivacards_events.describe()"
   ]
  },
  {
   "cell_type": "code",
   "execution_count": null,
   "id": "9112bbe5",
   "metadata": {},
   "outputs": [],
   "source": [
    "corrected_equivacards_events.groupby('event_name').count()"
   ]
  },
  {
   "cell_type": "code",
   "execution_count": null,
   "id": "0650a81b",
   "metadata": {},
   "outputs": [],
   "source": [
    "corrected_equivacards_events.user_game_index.max()"
   ]
  },
  {
   "cell_type": "code",
   "execution_count": null,
   "id": "4f588c9b",
   "metadata": {},
   "outputs": [],
   "source": [
    "corrected_equivacards_events.groupby('event_name')['user_id'].nunique()"
   ]
  },
  {
   "cell_type": "code",
   "execution_count": null,
   "id": "67cb932b",
   "metadata": {},
   "outputs": [],
   "source": [
    "corrected_equivacards_events.dtypes"
   ]
  },
  {
   "cell_type": "code",
   "execution_count": null,
   "id": "afdb1b12",
   "metadata": {},
   "outputs": [],
   "source": [
    "corrected_equivacards_events.columns.sort_values()"
   ]
  },
  {
   "cell_type": "code",
   "execution_count": null,
   "id": "f2d1edf5",
   "metadata": {},
   "outputs": [],
   "source": [
    "corrected_equivacards_events.shape"
   ]
  },
  {
   "cell_type": "code",
   "execution_count": null,
   "id": "81e6ffda",
   "metadata": {},
   "outputs": [],
   "source": [
    "corrected_equivacards_events.shape"
   ]
  },
  {
   "cell_type": "code",
   "execution_count": null,
   "id": "d2786bf9",
   "metadata": {},
   "outputs": [],
   "source": [
    "corrected_equivacards_events.columns"
   ]
  },
  {
   "cell_type": "code",
   "execution_count": null,
   "id": "b423978a",
   "metadata": {},
   "outputs": [],
   "source": [
    "corrected_equivacards_events[corrected_activity_events_df.user_id == '4492']"
   ]
  },
  {
   "cell_type": "code",
   "execution_count": null,
   "id": "0743d8d2",
   "metadata": {},
   "outputs": [],
   "source": [
    "corrected_equivacards_events[corrected_activity_events_df.user_id == '4492'][['event_name', 'corrected_activity', 'game_end', 'game_start', 'user_launch_index', 'user_game_index', 'match_type']].to_csv('4492.csv')"
   ]
  },
  {
   "cell_type": "raw",
   "id": "dd0de496",
   "metadata": {
    "ExecuteTime": {
     "end_time": "2023-06-16T16:45:43.992725Z",
     "start_time": "2023-06-16T16:45:43.968196Z"
    }
   },
   "source": [
    "corrected_equivacards_events[corrected_activity_events_df.user_id == '1336'].to_json('1336.json', orient='records')"
   ]
  },
  {
   "cell_type": "markdown",
   "id": "adf37b45",
   "metadata": {},
   "source": [
    "# Calc number cards"
   ]
  },
  {
   "cell_type": "code",
   "execution_count": null,
   "id": "8fd94fbd",
   "metadata": {},
   "outputs": [],
   "source": [
    "example_df = corrected_equivacards_events[corrected_activity_events_df.user_id.isin(\n",
    "    [\n",
    "        '1336'\n",
    "#         , '4492'\n",
    "    ])].copy()"
   ]
  },
  {
   "cell_type": "code",
   "execution_count": null,
   "id": "e6f09c3b",
   "metadata": {},
   "outputs": [],
   "source": [
    "corrected_equivacards_events.columns"
   ]
  },
  {
   "cell_type": "code",
   "execution_count": null,
   "id": "f594cb7d",
   "metadata": {},
   "outputs": [],
   "source": [
    "example_df[(example_df.user_id == '1336') & (example_df.user_game_index == 4)].to_csv('example_events.csv')"
   ]
  },
  {
   "cell_type": "code",
   "execution_count": null,
   "id": "37fce430",
   "metadata": {},
   "outputs": [],
   "source": [
    "example_df[['user_launch_index', 'user_game_index', 'turn_id', 'event_name','user_id', 'board_right_card', 'board_left_card','p1_hand', 'card', 'value', 'match_color','match_value', 'match_algebraic']].to_csv('example_events.csv')"
   ]
  },
  {
   "cell_type": "code",
   "execution_count": null,
   "id": "97da16d1",
   "metadata": {},
   "outputs": [],
   "source": [
    "example_df[(example_df.user_id == '1336') & (example_df.user_game_index == 5)][['user_launch_index', 'user_game_index', 'user_turn_start_index', 'turn_id', 'event_name','user_id', 'board_right_card', 'board_left_card','p1_hand', 'card', 'value', 'match_color','match_value', 'match_algebraic']].to_csv('example_events.csv')"
   ]
  },
  {
   "cell_type": "code",
   "execution_count": null,
   "id": "47ebc57e",
   "metadata": {},
   "outputs": [],
   "source": []
  },
  {
   "cell_type": "code",
   "execution_count": null,
   "id": "731d437b",
   "metadata": {},
   "outputs": [],
   "source": [
    "example_df.groupby(['user_id', 'user_game_index', 'turn_id', 'user_turn', 'event_name']).event_name.count().to_csv('example_by_turn.csv')"
   ]
  },
  {
   "cell_type": "code",
   "execution_count": null,
   "id": "a5f377c4",
   "metadata": {},
   "outputs": [],
   "source": [
    "example_df.groupby(['user_id', 'user_game_index', 'event_name']).event_name.count().to_csv('example_by_game.csv')"
   ]
  },
  {
   "cell_type": "markdown",
   "id": "a85d1a44",
   "metadata": {
    "ExecuteTime": {
     "end_time": "2023-06-16T16:47:26.299026Z",
     "start_time": "2023-06-16T16:47:26.297143Z"
    }
   },
   "source": [
    "## Turn Metrics"
   ]
  },
  {
   "cell_type": "code",
   "execution_count": null,
   "id": "9242090a",
   "metadata": {},
   "outputs": [],
   "source": [
    "example_df[(example_df.user_id == '1336') & (example_df.user_game_index == 5) & (example_df.user_turn_start_index == 1)][['user_turn_start_time', 'user_action_time']]"
   ]
  },
  {
   "cell_type": "code",
   "execution_count": null,
   "id": "c4d054b8",
   "metadata": {},
   "outputs": [],
   "source": [
    "# example_df['num_of_cards_played_in_turn'] = \n",
    "example_df[example_df.event_name=='user_played_card'].groupby(['user_id', 'user_game_index', 'user_turn_start_index']).card.count().reset_index()"
   ]
  },
  {
   "cell_type": "code",
   "execution_count": null,
   "id": "73b04016",
   "metadata": {},
   "outputs": [],
   "source": [
    "example_df.match_type_change.sum?"
   ]
  },
  {
   "cell_type": "code",
   "execution_count": null,
   "id": "3649782d",
   "metadata": {},
   "outputs": [],
   "source": [
    "# example_df['category_match_switches'] = \n",
    "example_df.groupby(['user_id', 'user_game_index', 'user_turn_start_index']).match_type_change.sum().reset_index().astype(int)"
   ]
  },
  {
   "cell_type": "code",
   "execution_count": null,
   "id": "7f6877a5",
   "metadata": {},
   "outputs": [],
   "source": [
    "example_df"
   ]
  },
  {
   "cell_type": "code",
   "execution_count": null,
   "id": "aedd96b5",
   "metadata": {},
   "outputs": [],
   "source": [
    "example_df.groupby(['user_id', 'user_game_index', 'user_turn_start_index']).match_type.first()"
   ]
  },
  {
   "cell_type": "code",
   "execution_count": null,
   "id": "d5a71aca",
   "metadata": {},
   "outputs": [],
   "source": [
    "example_df[(example_df.user_id == '1336') & (example_df.user_game_index == 2) & (example_df.user_turn_start_index == 1)][['user_turn_start_time', 'user_action_time']]"
   ]
  },
  {
   "cell_type": "code",
   "execution_count": null,
   "id": "56e351de",
   "metadata": {},
   "outputs": [],
   "source": [
    "example_df[(example_df.user_id == '1336') & (example_df.user_game_index == 2) & (example_df.user_turn_start_index == 1)][['user_id', 'user_turn_start_time', 'user_action_time']].groupby(['user_id']).apply(lambda x: (x.user_action_time.min() - x.user_turn_start_time.min()).total_seconds())"
   ]
  },
  {
   "cell_type": "code",
   "execution_count": null,
   "id": "f40e47c1",
   "metadata": {},
   "outputs": [],
   "source": [
    "(pd.Timestamp('2022-08-16 19:39:01.933') - pd.Timestamp('2022-08-16 19:38:52.663')).total_seconds()"
   ]
  },
  {
   "cell_type": "code",
   "execution_count": null,
   "id": "993321e9",
   "metadata": {},
   "outputs": [],
   "source": [
    "# example_df['time_to_first_move_seconds'] = \n",
    "example_df.groupby(['user_id', 'user_game_index', 'user_turn_start_index']).apply(lambda x: (x.user_action_time.min() - x.user_turn_start_time.min()).total_seconds())"
   ]
  },
  {
   "cell_type": "code",
   "execution_count": null,
   "id": "cbccc0af",
   "metadata": {},
   "outputs": [],
   "source": [
    "# example_df['time_to_first_move_seconds'] = \n",
    "example_df.groupby(['user_id', 'user_game_index', 'user_turn_start_index']).apply(lambda x: (x.user_action_time.min() - x.user_turn_start_time.min()).microseconds)"
   ]
  },
  {
   "cell_type": "code",
   "execution_count": null,
   "id": "322d1c0c",
   "metadata": {},
   "outputs": [],
   "source": [
    "# example_df['turn_time_seconds'] = \n",
    "example_df.groupby(['user_id', 'user_game_index', 'user_turn_start_index']).apply(lambda x: (x.user_turn_end_time.max() - x.user_turn_start_time.min()).microseconds/100000)"
   ]
  },
  {
   "cell_type": "code",
   "execution_count": null,
   "id": "06d54b57",
   "metadata": {},
   "outputs": [],
   "source": [
    "# example_df['turn_time_seconds'] = \n"
   ]
  },
  {
   "cell_type": "code",
   "execution_count": null,
   "id": "e752f6dc",
   "metadata": {},
   "outputs": [],
   "source": [
    "# example_df['num_of_cards_played'] = \n",
    "example_df.groupby(['user_id', 'user_game_index', 'user_turn_start_index']).apply(lambda x: x.user_turn_start_time.min() )"
   ]
  },
  {
   "cell_type": "code",
   "execution_count": null,
   "id": "eb3f481c",
   "metadata": {},
   "outputs": [],
   "source": [
    "example_df.user_turn_end_time.max() \n",
    "# - example_df.user_turn_end_time.min()"
   ]
  },
  {
   "cell_type": "code",
   "execution_count": null,
   "id": "908e7002",
   "metadata": {},
   "outputs": [],
   "source": [
    "example_df.user_turn_end_time.min()"
   ]
  },
  {
   "cell_type": "code",
   "execution_count": null,
   "id": "b722b190",
   "metadata": {},
   "outputs": [],
   "source": [
    "example_df.user_turn_end_time.max()"
   ]
  },
  {
   "cell_type": "code",
   "execution_count": null,
   "id": "61d05836",
   "metadata": {},
   "outputs": [],
   "source": [
    "# example_df['num_of_cards_played'] = \n",
    "example_df.groupby(['user_id', 'user_game_index', 'turn_id', 'user_turn', 'event_name']).card.count()"
   ]
  },
  {
   "cell_type": "code",
   "execution_count": null,
   "id": "5d2cadbe",
   "metadata": {},
   "outputs": [],
   "source": []
  },
  {
   "cell_type": "code",
   "execution_count": null,
   "id": "01bf0e94",
   "metadata": {},
   "outputs": [],
   "source": []
  },
  {
   "cell_type": "markdown",
   "id": "cc1e3bc6",
   "metadata": {},
   "source": [
    "# Calc options"
   ]
  },
  {
   "cell_type": "code",
   "execution_count": null,
   "id": "c862f692",
   "metadata": {},
   "outputs": [],
   "source": [
    "calc_df = example_df[\n",
    "    example_df.event_name=='game_state_changed'\n",
    "][[\n",
    "    'user_launch_index', 'user_game_index','turn_id', \n",
    "    'user_turn', 'event_name','user_id', 'board_right_card', 'board_left_card', 'p1_hand_card_0',\n",
    "    'p1_hand_card_1', 'p1_hand_card_2', 'p1_hand_card_3', 'p1_hand_card_4', \n",
    "    'p1_hand_card_5','p1_hand_card_6', 'p1_hand_card_7', 'p1_hand_card_8', 'p1_hand_card_9',\n",
    "       'p1_hand_card_10', 'card', 'value', 'match_color','match_value', 'match_algebraic']].copy()"
   ]
  },
  {
   "cell_type": "code",
   "execution_count": null,
   "id": "365ef6f4",
   "metadata": {},
   "outputs": [],
   "source": [
    "p1_card_columns = [column for column in calc_df.columns if 'p1_hand_card' in column]\n",
    "p1_card_columns"
   ]
  },
  {
   "cell_type": "code",
   "execution_count": null,
   "id": "86ecd847",
   "metadata": {},
   "outputs": [],
   "source": [
    "for p1_column in p1_card_columns:\n",
    "    "
   ]
  },
  {
   "cell_type": "code",
   "execution_count": null,
   "id": "57099fd8",
   "metadata": {},
   "outputs": [],
   "source": [
    "calc_df.to_csv('example_events.csv')"
   ]
  },
  {
   "cell_type": "code",
   "execution_count": null,
   "id": "1d708a8c",
   "metadata": {},
   "outputs": [],
   "source": [
    "def eval_card(x,expr):\n",
    "    if expr=='1':\n",
    "        return(1)\n",
    "    elif expr=='2':\n",
    "        return(2)\n",
    "    elif expr=='3':\n",
    "        return(3)\n",
    "    elif expr=='4':\n",
    "        return(4)\n",
    "    elif expr=='5':\n",
    "        return(5)\n",
    "    elif expr=='6':\n",
    "        return(6)\n",
    "    elif expr=='7':\n",
    "        return(7)\n",
    "    elif expr=='8':\n",
    "        return(8)\n",
    "    elif expr=='x':\n",
    "        return(x)\n",
    "    elif expr=='x+x':\n",
    "        return(x+x)\n",
    "    elif expr=='x+1':\n",
    "        return(x+1)\n",
    "    elif expr=='x+2':\n",
    "        return(x+2)\n",
    "    elif expr=='9-x':\n",
    "        return(9-x)\n",
    "    elif expr=='2x':\n",
    "        return(2*x)\n",
    "    elif '=' in expr:\n",
    "        return False\n",
    "    print(f'unexpected card expression {expr}')"
   ]
  },
  {
   "cell_type": "raw",
   "id": "451eec50",
   "metadata": {},
   "source": [
    "example_board = example_df.board[431]\n",
    "example_board"
   ]
  },
  {
   "cell_type": "raw",
   "id": "07dc5323",
   "metadata": {},
   "source": [
    "x = int(example_board[0][-1:])\n",
    "color = example_board[1].split(\".\")[0]\n",
    "val   = example_board[1].split(\".\")[1]"
   ]
  },
  {
   "cell_type": "code",
   "execution_count": null,
   "id": "d62dc71f",
   "metadata": {},
   "outputs": [],
   "source": [
    "calc_df['board.x_val'] = calc_df.apply(lambda x: int(x.board_left_card[-1:]), axis=1)"
   ]
  },
  {
   "cell_type": "code",
   "execution_count": null,
   "id": "fd785581",
   "metadata": {},
   "outputs": [],
   "source": [
    "calc_df['board.color'] = calc_df.apply(lambda x: (x.board_right_card.split(\".\")[0]), axis=1)"
   ]
  },
  {
   "cell_type": "code",
   "execution_count": null,
   "id": "252d52ce",
   "metadata": {},
   "outputs": [],
   "source": [
    "calc_df['board.right_val'] = calc_df.apply(lambda x: (x.board_right_card.split(\".\")[1]), axis=1)"
   ]
  },
  {
   "cell_type": "code",
   "execution_count": null,
   "id": "e27b2b35",
   "metadata": {},
   "outputs": [],
   "source": [
    "calc_df['board.right_val'] = calc_df.apply(lambda x: (x.board_right_card.split(\".\")[1]), axis=1)"
   ]
  },
  {
   "cell_type": "code",
   "execution_count": null,
   "id": "1a3f3a8f",
   "metadata": {},
   "outputs": [],
   "source": [
    "calc_df['aval_value'] = calc_df.apply(lambda x: eval_card(int(x['board.x_val']), x['board.right_val']), axis =1)"
   ]
  },
  {
   "cell_type": "code",
   "execution_count": null,
   "id": "8ceb4f45",
   "metadata": {},
   "outputs": [],
   "source": [
    "for column in p1_card_columns:\n",
    "    calc_df[f'{column}_can_match_color'] = calc_df.apply(lambda x: x['board.color'] in str(x[column]), axis =1)\n",
    "    calc_df[f'{column}_can_match_value'] = calc_df.apply(lambda x: x['board.right_val'] in str(x[column]), axis =1)\n",
    "    "
   ]
  },
  {
   "cell_type": "code",
   "execution_count": null,
   "id": "18b2fe21",
   "metadata": {},
   "outputs": [],
   "source": [
    "for column in p1_card_columns:\n",
    "    calc_df[f'{column}_eval_value'] = calc_df.apply(lambda x: eval_card(int(x['board.x_val']), x[column].split(\".\")[1]) if type(x[column])==str else None, axis =1)\n",
    "    "
   ]
  },
  {
   "cell_type": "code",
   "execution_count": null,
   "id": "bb8322b4",
   "metadata": {},
   "outputs": [],
   "source": [
    "for column in p1_card_columns:\n",
    "    calc_df[f'{column}_can_match_algebraic'] = calc_df.apply(\n",
    "        lambda x: str(x[f'{column}_eval_value']) == str(x['aval_value'])  if type(x[column])==str else None, axis =1)\n",
    "    "
   ]
  },
  {
   "cell_type": "code",
   "execution_count": null,
   "id": "de9dd4c8",
   "metadata": {},
   "outputs": [],
   "source": [
    "can_match_columns={}\n",
    "for match_type in ['algebraic', 'color', 'value']:\n",
    "    can_match_columns[match_type] = [ column+ f'_can_match_{match_type}' for column in p1_card_columns]\n",
    "    calc_df[f'num_can_match_{match_type}'] = calc_df[can_match_columns[match_type]].sum(axis=1)"
   ]
  },
  {
   "cell_type": "code",
   "execution_count": null,
   "id": "62928761",
   "metadata": {},
   "outputs": [],
   "source": [
    "pd.merge(example_df, calc_df, how='outer').to_csv('./example_events_with_options.csv')"
   ]
  },
  {
   "cell_type": "code",
   "execution_count": null,
   "id": "d0c1c068",
   "metadata": {},
   "outputs": [],
   "source": [
    "####"
   ]
  },
  {
   "cell_type": "code",
   "execution_count": null,
   "id": "9f4ee8a1",
   "metadata": {},
   "outputs": [],
   "source": []
  },
  {
   "cell_type": "code",
   "execution_count": null,
   "id": "215f3eea",
   "metadata": {},
   "outputs": [],
   "source": []
  },
  {
   "cell_type": "code",
   "execution_count": null,
   "id": "fb662fff",
   "metadata": {},
   "outputs": [],
   "source": []
  },
  {
   "cell_type": "raw",
   "id": "633e0ba5",
   "metadata": {},
   "source": [
    "os.makedirs('./data', exist_ok=True)\n",
    "to_send.to_csv('./data/fall_2023.csv')"
   ]
  },
  {
   "cell_type": "markdown",
   "id": "684b3987",
   "metadata": {},
   "source": [
    "## Review of game time and distribution of events per game "
   ]
  },
  {
   "cell_type": "code",
   "execution_count": null,
   "id": "9f3567c7",
   "metadata": {},
   "outputs": [],
   "source": [
    "from plotnine import ggplot, geom_point, aes, stat_smooth, facet_wrap, scale_x_date, geom_line,facet_grid, theme, element_text, labs, element_blank, ggtitle, geom_bar"
   ]
  },
  {
   "cell_type": "code",
   "execution_count": null,
   "id": "0f7f8fb4",
   "metadata": {},
   "outputs": [],
   "source": [
    "(ggplot(\n",
    "   corrected_equivacards_events, aes('timestamp_combined', 'factor(user_id)', color= 'factor(user_id)'))\n",
    "+ geom_point(show_legend=False)\n",
    " + geom_line(show_legend=False)\n",
    "  + labs(x= \"date\", y=\"User Id\")\n",
    " + ggtitle(\"Game by user_id vs date\")\n",
    " + theme(figure_size=(6, 4), axis_text_x=element_text(rotation=90, hjust=1)) \n",
    ")"
   ]
  },
  {
   "cell_type": "code",
   "execution_count": null,
   "id": "83f93126",
   "metadata": {},
   "outputs": [],
   "source": [
    "(ggplot(\n",
    "   corrected_equivacards_events, aes('user_game_index', fill= 'factor(event_name)'))\n",
    "+ geom_bar(stat='count', position= 'stack')\n",
    " + facet_grid('user_id ~', scales ='free', )\n",
    " + theme(figure_size=(4, 10), axis_text_x=element_text(rotation=90, hjust=1), strip_text_y = element_text(angle = 0)) \n",
    " + labs(x= \"User Game Index\", y=\"Event count\")\n",
    " + ggtitle(\"Game events by user_id\")\n",
    ")"
   ]
  },
  {
   "cell_type": "markdown",
   "id": "2ce39936",
   "metadata": {},
   "source": [
    "## Cursory comparison of best move 0 to taken move 0"
   ]
  },
  {
   "cell_type": "code",
   "execution_count": null,
   "id": "2a060f20",
   "metadata": {},
   "outputs": [],
   "source": [
    "corrected_equivacards_events['previous_best_move_0'] = corrected_equivacards_events.groupby('user_id').best_play_turn_0_label.shift(2).apply(lambda x: x.replace(',', '.') if type(x)==str else None ) \n",
    "corrected_equivacards_events['made_best_move_0'] = corrected_equivacards_events.apply(lambda x: x.previous_best_move_0==x.card, axis =1) "
   ]
  },
  {
   "cell_type": "code",
   "execution_count": null,
   "id": "56dc0b6e",
   "metadata": {},
   "outputs": [],
   "source": [
    "corrected_equivacards_events[['event_name','card', 'best_play_turn_0_label', 'previous_best_move_0', 'made_best_move_0']].head(15)"
   ]
  },
  {
   "cell_type": "code",
   "execution_count": null,
   "id": "8e2b3762",
   "metadata": {},
   "outputs": [],
   "source": [
    "corrected_equivacards_events[corrected_equivacards_events.event_name=='user_turn'].groupby(['user_id', 'made_best_move_0'])['$oid'].count()"
   ]
  },
  {
   "cell_type": "code",
   "execution_count": null,
   "id": "cdde5c9d",
   "metadata": {},
   "outputs": [],
   "source": [
    "corrected_equivacards_events[corrected_equivacards_events.event_name.isin(['user_won', 'user_lost'])].groupby(['user_id', 'event_name'])['$oid'].count()"
   ]
  },
  {
   "cell_type": "code",
   "execution_count": null,
   "id": "5825451e",
   "metadata": {},
   "outputs": [],
   "source": [
    "corrected_equivacards_events[corrected_equivacards_events.event_name.isin(['user_won', 'user_lost'])].groupby(['event_name'])['$oid'].count()"
   ]
  },
  {
   "cell_type": "code",
   "execution_count": null,
   "id": "e306e1c4",
   "metadata": {},
   "outputs": [],
   "source": [
    "corrected_equivacards_events[corrected_equivacards_events.event_name.isin(['user_turn'])].groupby(['user_game_index'])['$oid'].count()"
   ]
  },
  {
   "cell_type": "code",
   "execution_count": null,
   "id": "8e21440a",
   "metadata": {},
   "outputs": [],
   "source": [
    "corrected_equivacards_events.groupby('deck_version').count()"
   ]
  },
  {
   "cell_type": "code",
   "execution_count": null,
   "id": "c0779673",
   "metadata": {},
   "outputs": [],
   "source": []
  },
  {
   "cell_type": "code",
   "execution_count": null,
   "id": "47ad6523",
   "metadata": {},
   "outputs": [],
   "source": []
  },
  {
   "cell_type": "code",
   "execution_count": null,
   "id": "f4f77ecf",
   "metadata": {},
   "outputs": [],
   "source": []
  },
  {
   "cell_type": "code",
   "execution_count": null,
   "id": "d04abe3a",
   "metadata": {},
   "outputs": [],
   "source": []
  },
  {
   "cell_type": "code",
   "execution_count": null,
   "id": "7d12c653",
   "metadata": {},
   "outputs": [],
   "source": []
  },
  {
   "cell_type": "code",
   "execution_count": null,
   "id": "d385c357",
   "metadata": {},
   "outputs": [],
   "source": []
  },
  {
   "cell_type": "code",
   "execution_count": null,
   "id": "834305bb",
   "metadata": {},
   "outputs": [],
   "source": []
  },
  {
   "cell_type": "code",
   "execution_count": null,
   "id": "88bc540e",
   "metadata": {},
   "outputs": [],
   "source": []
  },
  {
   "cell_type": "code",
   "execution_count": null,
   "id": "730f099c",
   "metadata": {},
   "outputs": [],
   "source": []
  },
  {
   "cell_type": "code",
   "execution_count": null,
   "id": "7b7cfb31",
   "metadata": {},
   "outputs": [],
   "source": []
  },
  {
   "cell_type": "code",
   "execution_count": null,
   "id": "d070bee4",
   "metadata": {},
   "outputs": [],
   "source": []
  }
 ],
 "metadata": {
  "kernelspec": {
   "display_name": "Python 3 (ipykernel)",
   "language": "python",
   "name": "python3"
  },
  "language_info": {
   "codemirror_mode": {
    "name": "ipython",
    "version": 3
   },
   "file_extension": ".py",
   "mimetype": "text/x-python",
   "name": "python",
   "nbconvert_exporter": "python",
   "pygments_lexer": "ipython3",
   "version": "3.10.6"
  }
 },
 "nbformat": 4,
 "nbformat_minor": 5
}
