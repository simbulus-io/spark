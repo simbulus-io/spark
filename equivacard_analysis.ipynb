{
 "cells": [
  {
   "cell_type": "markdown",
   "id": "8689f149",
   "metadata": {},
   "source": [
    "# Flatten Equivacard event data"
   ]
  },
  {
   "cell_type": "code",
   "execution_count": null,
   "id": "d4e0c173",
   "metadata": {
    "ExecuteTime": {
     "end_time": "2023-04-17T21:12:50.514812Z",
     "start_time": "2023-04-17T21:12:50.512465Z"
    }
   },
   "outputs": [],
   "source": [
    "import plotnine\n",
    "import pandas as pd\n",
    "import numpy as np\n",
    "import json\n",
    "from datetime import datetime\n",
    "import os"
   ]
  },
  {
   "cell_type": "code",
   "execution_count": null,
   "id": "df3868cc",
   "metadata": {},
   "outputs": [],
   "source": [
    "json_file_path = \"./data/middie_full.json\""
   ]
  },
  {
   "cell_type": "code",
   "execution_count": null,
   "id": "c653746e",
   "metadata": {
    "ExecuteTime": {
     "end_time": "2023-04-17T20:31:20.320081Z",
     "start_time": "2023-04-17T20:31:20.261849Z"
    }
   },
   "outputs": [],
   "source": [
    "with open(json_file_path) as f:\n",
    "    event_json = json.load(f)"
   ]
  },
  {
   "cell_type": "markdown",
   "id": "1592157b",
   "metadata": {},
   "source": [
    "## Preview event shape"
   ]
  },
  {
   "cell_type": "code",
   "execution_count": null,
   "id": "6ffc4e6f",
   "metadata": {
    "ExecuteTime": {
     "end_time": "2023-04-17T20:31:41.542398Z",
     "start_time": "2023-04-17T20:31:41.536658Z"
    }
   },
   "outputs": [],
   "source": [
    "event_json[0:3]"
   ]
  },
  {
   "cell_type": "code",
   "execution_count": null,
   "id": "cc5beceb",
   "metadata": {
    "ExecuteTime": {
     "end_time": "2023-04-17T20:35:18.953267Z",
     "start_time": "2023-04-17T20:35:18.947307Z"
    }
   },
   "outputs": [],
   "source": [
    "event_json[-3:]"
   ]
  },
  {
   "cell_type": "code",
   "execution_count": null,
   "id": "4a9bfc53",
   "metadata": {
    "ExecuteTime": {
     "end_time": "2023-04-17T22:15:02.192597Z",
     "start_time": "2023-04-17T22:15:02.106792Z"
    }
   },
   "outputs": [],
   "source": [
    "json_df = pd.read_json(json_file_path, dtype= {'timestamp': int} )"
   ]
  },
  {
   "cell_type": "markdown",
   "id": "6ef1bd91",
   "metadata": {},
   "source": [
    "## Align timestamps"
   ]
  },
  {
   "cell_type": "code",
   "execution_count": null,
   "id": "be05d1e3",
   "metadata": {
    "ExecuteTime": {
     "end_time": "2023-04-17T22:15:06.676182Z",
     "start_time": "2023-04-17T22:15:06.673534Z"
    }
   },
   "outputs": [],
   "source": [
    "json_df.timestamp.values[0]"
   ]
  },
  {
   "cell_type": "code",
   "execution_count": null,
   "id": "c19cc0f4",
   "metadata": {},
   "outputs": [],
   "source": [
    "json_df['server_timestamp'].describe()"
   ]
  },
  {
   "cell_type": "code",
   "execution_count": null,
   "id": "3d424520",
   "metadata": {},
   "outputs": [],
   "source": [
    "json_df['timestamp'].describe()"
   ]
  },
  {
   "cell_type": "code",
   "execution_count": null,
   "id": "a4dd015c",
   "metadata": {},
   "outputs": [],
   "source": [
    "json_df[json_df['timestamp']>0]['timestamp'].describe()"
   ]
  },
  {
   "cell_type": "code",
   "execution_count": null,
   "id": "1aa5f28e",
   "metadata": {},
   "outputs": [],
   "source": [
    "json_df[json_df['timestamp']>10.0**16]['timestamp'].describe()"
   ]
  },
  {
   "cell_type": "code",
   "execution_count": null,
   "id": "755cae9d",
   "metadata": {
    "ExecuteTime": {
     "end_time": "2023-04-17T22:15:06.941734Z",
     "start_time": "2023-04-17T22:15:06.938707Z"
    }
   },
   "outputs": [],
   "source": [
    "print(datetime.utcfromtimestamp(1.662995e+15/1000000).strftime('%Y-%m-%d %H:%M:%S'))"
   ]
  },
  {
   "cell_type": "code",
   "execution_count": null,
   "id": "8b07a142",
   "metadata": {},
   "outputs": [],
   "source": [
    "1.662995e+15/(10**12)"
   ]
  },
  {
   "cell_type": "code",
   "execution_count": null,
   "id": "479a4f7d",
   "metadata": {
    "ExecuteTime": {
     "end_time": "2023-04-17T22:15:06.941734Z",
     "start_time": "2023-04-17T22:15:06.938707Z"
    }
   },
   "outputs": [],
   "source": [
    "print(datetime.utcfromtimestamp(json_df.timestamp.values.max()/1000000000).strftime('%Y-%m-%d %H:%M:%S'))"
   ]
  },
  {
   "cell_type": "code",
   "execution_count": null,
   "id": "b24a4d01",
   "metadata": {
    "ExecuteTime": {
     "end_time": "2023-04-17T22:15:07.225117Z",
     "start_time": "2023-04-17T22:15:07.222286Z"
    }
   },
   "outputs": [],
   "source": [
    "print(datetime.utcfromtimestamp(json_df.server_timestamp.min()/1000).strftime('%Y-%m-%d %H:%M:%S'))"
   ]
  },
  {
   "cell_type": "code",
   "execution_count": null,
   "id": "ddf1d2af",
   "metadata": {
    "ExecuteTime": {
     "end_time": "2023-04-17T22:15:07.225117Z",
     "start_time": "2023-04-17T22:15:07.222286Z"
    }
   },
   "outputs": [],
   "source": [
    "print(datetime.utcfromtimestamp(json_df.server_timestamp.max()/1000).strftime('%Y-%m-%d %H:%M:%S'))"
   ]
  },
  {
   "cell_type": "code",
   "execution_count": null,
   "id": "8c0e1fe0",
   "metadata": {},
   "outputs": [],
   "source": [
    "def align_unix_convention(x):\n",
    "    if not np.isnan(x.server_timestamp):\n",
    "        return x.server_timestamp/1000 \n",
    "    else:\n",
    "        ts = json_df.timestamp.values.max()\n",
    "        above_12 = np.floor(np.log10(json_df.timestamp.values.max())-12)\n",
    "        return ts/(10**(above_12+3))\n",
    "    "
   ]
  },
  {
   "cell_type": "code",
   "execution_count": null,
   "id": "79bf678c",
   "metadata": {
    "ExecuteTime": {
     "end_time": "2023-04-17T21:45:57.749567Z",
     "start_time": "2023-04-17T21:45:57.744153Z"
    }
   },
   "outputs": [],
   "source": [
    "json_df['unix_timestamp_combined'] = json_df.apply(lambda x: align_unix_convention(x), axis=1)"
   ]
  },
  {
   "cell_type": "code",
   "execution_count": null,
   "id": "1aa9d06f",
   "metadata": {
    "ExecuteTime": {
     "end_time": "2023-04-17T21:45:58.656759Z",
     "start_time": "2023-04-17T21:45:58.651594Z"
    }
   },
   "outputs": [],
   "source": [
    "json_df['timestamp_combined'] = json_df.apply(lambda x: datetime.utcfromtimestamp(x.unix_timestamp_combined), axis=1)"
   ]
  },
  {
   "cell_type": "code",
   "execution_count": null,
   "id": "776ef59f",
   "metadata": {},
   "outputs": [],
   "source": [
    "json_df['unix_timestamp_combined'].describe()"
   ]
  },
  {
   "cell_type": "code",
   "execution_count": null,
   "id": "ee437dab",
   "metadata": {
    "ExecuteTime": {
     "end_time": "2023-04-17T22:15:07.225117Z",
     "start_time": "2023-04-17T22:15:07.222286Z"
    }
   },
   "outputs": [],
   "source": [
    "print(json_df.timestamp_combined.min())"
   ]
  },
  {
   "cell_type": "code",
   "execution_count": null,
   "id": "77833e3d",
   "metadata": {
    "ExecuteTime": {
     "end_time": "2023-04-17T22:15:07.225117Z",
     "start_time": "2023-04-17T22:15:07.222286Z"
    }
   },
   "outputs": [],
   "source": [
    "print(json_df.timestamp_combined.max())"
   ]
  },
  {
   "cell_type": "code",
   "execution_count": null,
   "id": "d0b69937",
   "metadata": {
    "ExecuteTime": {
     "end_time": "2023-04-17T22:15:03.036529Z",
     "start_time": "2023-04-17T22:15:03.014992Z"
    }
   },
   "outputs": [],
   "source": [
    "json_df.sample(5)"
   ]
  },
  {
   "cell_type": "markdown",
   "id": "922481ac",
   "metadata": {},
   "source": [
    "## Review event distribution across field categories"
   ]
  },
  {
   "cell_type": "code",
   "execution_count": null,
   "id": "7863f817",
   "metadata": {
    "ExecuteTime": {
     "end_time": "2023-04-17T22:15:07.553317Z",
     "start_time": "2023-04-17T22:15:07.535002Z"
    }
   },
   "outputs": [],
   "source": [
    "json_df.groupby('activity').count()"
   ]
  },
  {
   "cell_type": "code",
   "execution_count": null,
   "id": "acd6a7e3",
   "metadata": {
    "ExecuteTime": {
     "end_time": "2023-04-17T22:15:08.371315Z",
     "start_time": "2023-04-17T22:15:08.350637Z"
    }
   },
   "outputs": [],
   "source": [
    "json_df.groupby('event_name').count()"
   ]
  },
  {
   "cell_type": "code",
   "execution_count": null,
   "id": "e66296ed",
   "metadata": {
    "ExecuteTime": {
     "end_time": "2023-04-17T22:15:08.870114Z",
     "start_time": "2023-04-17T22:15:08.850519Z"
    }
   },
   "outputs": [],
   "source": [
    "json_df.groupby('bucket').count()"
   ]
  },
  {
   "cell_type": "code",
   "execution_count": null,
   "id": "0e2e34ec",
   "metadata": {
    "ExecuteTime": {
     "end_time": "2023-04-17T22:15:09.372859Z",
     "start_time": "2023-04-17T22:15:09.367028Z"
    }
   },
   "outputs": [],
   "source": [
    "json_df.groupby('activity')['user_id'].nunique()"
   ]
  },
  {
   "cell_type": "code",
   "execution_count": null,
   "id": "cb46ba29",
   "metadata": {
    "ExecuteTime": {
     "end_time": "2023-04-17T22:15:10.562259Z",
     "start_time": "2023-04-17T22:15:10.556624Z"
    }
   },
   "outputs": [],
   "source": [
    "equiv_events_df = json_df[json_df.activity.isin(['EQUIVACARDS'])]"
   ]
  },
  {
   "cell_type": "code",
   "execution_count": null,
   "id": "eef3a2cf",
   "metadata": {
    "ExecuteTime": {
     "end_time": "2023-04-17T22:15:21.309753Z",
     "start_time": "2023-04-17T22:15:21.306934Z"
    }
   },
   "outputs": [],
   "source": [
    "equiv_events_df.shape"
   ]
  },
  {
   "cell_type": "markdown",
   "id": "65f42de5",
   "metadata": {},
   "source": [
    "## Flatten object columns"
   ]
  },
  {
   "cell_type": "code",
   "execution_count": null,
   "id": "9454845f",
   "metadata": {},
   "outputs": [],
   "source": [
    "payload_df = pd.json_normalize(equiv_events_df.payload)"
   ]
  },
  {
   "cell_type": "code",
   "execution_count": null,
   "id": "c38dc166",
   "metadata": {},
   "outputs": [],
   "source": [
    "payload_df.sample(5)"
   ]
  },
  {
   "cell_type": "markdown",
   "id": "6506f4aa",
   "metadata": {},
   "source": [
    "`best_play`, `board` and `p1_hand` are objects that are not easy to process as is"
   ]
  },
  {
   "cell_type": "code",
   "execution_count": null,
   "id": "fc23c8a0",
   "metadata": {},
   "outputs": [],
   "source": [
    "payload_df[payload_df.best_play.notna()].sample(5).best_play.values"
   ]
  },
  {
   "cell_type": "markdown",
   "id": "83bb8b07",
   "metadata": {},
   "source": [
    "`best_play` is a complex object and would require targeted processing to pull out value\n",
    "\n",
    "Length of the best play and first move of the best play seem likely useful "
   ]
  },
  {
   "cell_type": "code",
   "execution_count": null,
   "id": "0b257289",
   "metadata": {},
   "outputs": [],
   "source": [
    "best_play_df = payload_df.best_play.apply(pd.Series) "
   ]
  },
  {
   "cell_type": "code",
   "execution_count": null,
   "id": "1617479c",
   "metadata": {},
   "outputs": [],
   "source": [
    "best_play_df.columns = [f\"best_play_turn_{item}\" for item in best_play_df.columns]"
   ]
  },
  {
   "cell_type": "code",
   "execution_count": null,
   "id": "b239903f",
   "metadata": {},
   "outputs": [],
   "source": [
    "best_play_df[best_play_df.best_play_turn_0.notna()].head()"
   ]
  },
  {
   "cell_type": "code",
   "execution_count": null,
   "id": "aad870e9",
   "metadata": {},
   "outputs": [],
   "source": [
    "# best_play_df[\"best_play_length\"] = best_play_df.count(axis=1)"
   ]
  },
  {
   "cell_type": "code",
   "execution_count": null,
   "id": "1efa273e",
   "metadata": {},
   "outputs": [],
   "source": [
    "best_play_df[best_play_df.best_play_turn_0.notna()].head()"
   ]
  },
  {
   "cell_type": "code",
   "execution_count": null,
   "id": "91064cf9",
   "metadata": {},
   "outputs": [],
   "source": [
    "best_play_0_df = pd.json_normalize(best_play_df.best_play_turn_0,errors='ignore')"
   ]
  },
  {
   "cell_type": "code",
   "execution_count": null,
   "id": "dc82412c",
   "metadata": {},
   "outputs": [],
   "source": [
    "best_play_0_df"
   ]
  },
  {
   "cell_type": "code",
   "execution_count": null,
   "id": "c444b77f",
   "metadata": {},
   "outputs": [],
   "source": [
    "best_play_0_df.columns = [f\"best_play_turn_0_{item}\" for item in best_play_0_df.columns]"
   ]
  },
  {
   "cell_type": "code",
   "execution_count": null,
   "id": "68c96bf5",
   "metadata": {},
   "outputs": [],
   "source": [
    "payload_df[payload_df.board.notna()].sample(5).board.values"
   ]
  },
  {
   "cell_type": "code",
   "execution_count": null,
   "id": "d4b9fd2f",
   "metadata": {},
   "outputs": [],
   "source": [
    "board_df = payload_df.board.apply(pd.Series) "
   ]
  },
  {
   "cell_type": "code",
   "execution_count": null,
   "id": "16085243",
   "metadata": {},
   "outputs": [],
   "source": [
    "board_df.columns = [\"board_left_card\", \"board_right_card\"]"
   ]
  },
  {
   "cell_type": "code",
   "execution_count": null,
   "id": "323b7dbc",
   "metadata": {},
   "outputs": [],
   "source": [
    "board_df[board_df.board_right_card.notna()].sample(5)"
   ]
  },
  {
   "cell_type": "code",
   "execution_count": null,
   "id": "ecc86ab5",
   "metadata": {},
   "outputs": [],
   "source": [
    "payload_df[payload_df.p1_hand.notna()].sample(5).p1_hand.values"
   ]
  },
  {
   "cell_type": "code",
   "execution_count": null,
   "id": "9bc5aa23",
   "metadata": {},
   "outputs": [],
   "source": [
    "p1_hand_df = payload_df.p1_hand.apply(pd.Series) "
   ]
  },
  {
   "cell_type": "code",
   "execution_count": null,
   "id": "835fdebd",
   "metadata": {},
   "outputs": [],
   "source": [
    "p1_hand_df.columns = [f\"p1_hand_card_{item}\" for item in p1_hand_df.columns]"
   ]
  },
  {
   "cell_type": "code",
   "execution_count": null,
   "id": "9cbb98d4",
   "metadata": {},
   "outputs": [],
   "source": [
    "p1_hand_df['p1_hand_size'] = p1_hand_df.count(axis=1)"
   ]
  },
  {
   "cell_type": "code",
   "execution_count": null,
   "id": "59fa98d4",
   "metadata": {},
   "outputs": [],
   "source": [
    "p1_hand_df[p1_hand_df.p1_hand_card_0.notna()].sample(5)"
   ]
  },
  {
   "cell_type": "code",
   "execution_count": null,
   "id": "4ecfa7df",
   "metadata": {
    "ExecuteTime": {
     "end_time": "2023-04-17T22:15:29.652868Z",
     "start_time": "2023-04-17T22:15:29.612764Z"
    }
   },
   "outputs": [],
   "source": [
    "equiv_flat_df = pd.concat([\n",
    "    equiv_events_df.reset_index(drop=True), \n",
    "    payload_df.reset_index(drop=True),\n",
    "    best_play_df.reset_index(drop=True),\n",
    "    best_play_0_df.reset_index(drop=True),\n",
    "    board_df.reset_index(drop=True),\n",
    "    p1_hand_df.reset_index(drop=True)\n",
    "], axis=1)"
   ]
  },
  {
   "cell_type": "code",
   "execution_count": null,
   "id": "002dfd55",
   "metadata": {},
   "outputs": [],
   "source": [
    "equiv_flat_df.sample(5)"
   ]
  },
  {
   "cell_type": "markdown",
   "id": "89eb470c",
   "metadata": {},
   "source": [
    "## Correct Connect the Drops labels"
   ]
  },
  {
   "cell_type": "code",
   "execution_count": null,
   "id": "fd0a81a1",
   "metadata": {},
   "outputs": [],
   "source": [
    "game_temp_df = equiv_flat_df[equiv_flat_df.event_name.isin([\"launched_connect_the_drops\", \"launched_equivacards\", \"user_won\", \"user_lost\"])].sort_values(by='timestamp_combined')"
   ]
  },
  {
   "cell_type": "code",
   "execution_count": null,
   "id": "4f573468",
   "metadata": {},
   "outputs": [],
   "source": [
    "game_temp_df = equiv_flat_df.sort_values(by='timestamp_combined')"
   ]
  },
  {
   "cell_type": "code",
   "execution_count": null,
   "id": "268a3941",
   "metadata": {},
   "outputs": [],
   "source": [
    "game_temp_df['game_start'] = game_temp_df.event_name.apply(lambda x: x in ['launched_connect_the_drops', 'launched_equivacards'])"
   ]
  },
  {
   "cell_type": "code",
   "execution_count": null,
   "id": "c5d9d391",
   "metadata": {},
   "outputs": [],
   "source": [
    "def correct_launch_activity(x):\n",
    "    if x == 'launched_connect_the_drops':\n",
    "        return \"CONNECT_THE_DROPS\"\n",
    "    elif x ==  'launched_equivacards':\n",
    "        return \"EQUIVACARDS\""
   ]
  },
  {
   "cell_type": "code",
   "execution_count": null,
   "id": "fa92e3f3",
   "metadata": {},
   "outputs": [],
   "source": [
    "game_temp_df['corrected_activity'] = game_temp_df.event_name.apply(correct_launch_activity)"
   ]
  },
  {
   "cell_type": "code",
   "execution_count": null,
   "id": "73a4d8a7",
   "metadata": {},
   "outputs": [],
   "source": [
    "game_temp_df['game_end'] = game_temp_df.event_name.apply(lambda x: x in ['user_won', 'user_lost'])"
   ]
  },
  {
   "cell_type": "code",
   "execution_count": null,
   "id": "e2a28226",
   "metadata": {},
   "outputs": [],
   "source": [
    "game_temp_df['user_launch_index'] = game_temp_df.groupby('user_id').game_start.cumsum()\n",
    "game_temp_df['user_game_index'] = game_temp_df.groupby('user_id').game_end.cumsum()"
   ]
  },
  {
   "cell_type": "code",
   "execution_count": null,
   "id": "ebf9e4db",
   "metadata": {},
   "outputs": [],
   "source": [
    "def correct_activity(x):\n",
    "    if x == 'launched_connect_the_drops':\n",
    "        return \"CONNECT_THE_DROPS\"\n",
    "    elif x ==  'launched_equivacards':\n",
    "        return \"EQUIVACARDS\""
   ]
  },
  {
   "cell_type": "code",
   "execution_count": null,
   "id": "848128dd",
   "metadata": {},
   "outputs": [],
   "source": [
    "game_temp_df['corrected_activity'] = game_temp_df.event_name.apply(lambda x: correct_activity(x))"
   ]
  },
  {
   "cell_type": "code",
   "execution_count": null,
   "id": "3b707b83",
   "metadata": {
    "ExecuteTime": {
     "end_time": "2023-04-17T22:14:40.725640Z",
     "start_time": "2023-04-17T22:14:40.680488Z"
    }
   },
   "outputs": [],
   "source": [
    "game_by_launch_df = game_temp_df[game_temp_df['corrected_activity'].notna()][['user_id', \"user_launch_index\",\"corrected_activity\"]]"
   ]
  },
  {
   "cell_type": "code",
   "execution_count": null,
   "id": "4284daae",
   "metadata": {},
   "outputs": [],
   "source": [
    "game_by_launch_df.sample(5)"
   ]
  },
  {
   "cell_type": "code",
   "execution_count": null,
   "id": "80a867be",
   "metadata": {},
   "outputs": [],
   "source": [
    "corrected_activity_events_df = pd.merge(game_temp_df.drop('corrected_activity', axis=1), game_by_launch_df, on=[\"user_id\", \"user_launch_index\"])"
   ]
  },
  {
   "cell_type": "code",
   "execution_count": null,
   "id": "c592d41b",
   "metadata": {},
   "outputs": [],
   "source": [
    "corrected_activity_events_df.groupby('corrected_activity')['user_id'].nunique()"
   ]
  },
  {
   "cell_type": "code",
   "execution_count": null,
   "id": "9ff47bec",
   "metadata": {
    "ExecuteTime": {
     "end_time": "2023-04-17T22:14:40.725640Z",
     "start_time": "2023-04-17T22:14:40.680488Z"
    }
   },
   "outputs": [],
   "source": [
    "corrected_equivacards_events = corrected_activity_events_df[corrected_activity_events_df.corrected_activity==\"EQUIVACARDS\"]"
   ]
  },
  {
   "cell_type": "code",
   "execution_count": null,
   "id": "d1a53c38",
   "metadata": {
    "ExecuteTime": {
     "end_time": "2023-04-17T22:14:40.725640Z",
     "start_time": "2023-04-17T22:14:40.680488Z"
    }
   },
   "outputs": [],
   "source": [
    "corrected_equivacards_events.describe()"
   ]
  },
  {
   "cell_type": "code",
   "execution_count": null,
   "id": "9112bbe5",
   "metadata": {
    "ExecuteTime": {
     "end_time": "2023-04-17T22:21:34.823588Z",
     "start_time": "2023-04-17T22:21:34.790476Z"
    }
   },
   "outputs": [],
   "source": [
    "corrected_equivacards_events.groupby('event_name').count()"
   ]
  },
  {
   "cell_type": "code",
   "execution_count": null,
   "id": "0650a81b",
   "metadata": {
    "ExecuteTime": {
     "end_time": "2023-04-17T22:22:08.067216Z",
     "start_time": "2023-04-17T22:22:08.060341Z"
    }
   },
   "outputs": [],
   "source": [
    "corrected_equivacards_events.groupby('event_name')['user_id'].nunique()"
   ]
  },
  {
   "cell_type": "code",
   "execution_count": null,
   "id": "67cb932b",
   "metadata": {},
   "outputs": [],
   "source": [
    "corrected_equivacards_events.dtypes"
   ]
  },
  {
   "cell_type": "code",
   "execution_count": null,
   "id": "afdb1b12",
   "metadata": {},
   "outputs": [],
   "source": [
    "corrected_equivacards_events.columns.sort_values()"
   ]
  },
  {
   "cell_type": "code",
   "execution_count": null,
   "id": "2de9e84c",
   "metadata": {},
   "outputs": [],
   "source": [
    "os.makedirs('./data', exist_ok=True)\n",
    "with open('./data/results.json', 'w+') as f:\n",
    "    json.dumps(corrected_equivacards_events.reset_index().to_json(\"records\"))"
   ]
  },
  {
   "cell_type": "markdown",
   "id": "b35dc48e",
   "metadata": {},
   "source": [
    "## Review of game time and distribution of events per game "
   ]
  },
  {
   "cell_type": "code",
   "execution_count": null,
   "id": "9f3567c7",
   "metadata": {
    "ExecuteTime": {
     "end_time": "2023-04-17T21:56:39.719558Z",
     "start_time": "2023-04-17T21:56:39.716630Z"
    }
   },
   "outputs": [],
   "source": [
    "from plotnine import ggplot, geom_point, aes, stat_smooth, facet_wrap, scale_x_date, geom_line,facet_grid, theme, element_text, labs, element_blank, ggtitle, geom_bar"
   ]
  },
  {
   "cell_type": "code",
   "execution_count": null,
   "id": "0f7f8fb4",
   "metadata": {
    "ExecuteTime": {
     "end_time": "2023-04-17T21:24:17.696071Z",
     "start_time": "2023-04-17T21:24:17.166719Z"
    }
   },
   "outputs": [],
   "source": [
    "(ggplot(\n",
    "   corrected_equivacards_events, aes('timestamp_combined', 'factor(user_id)', color= 'factor(user_id)'))\n",
    "+ geom_point(show_legend=False)\n",
    " + geom_line(show_legend=False)\n",
    "  + labs(x= \"date\", y=\"User Id\")\n",
    " + ggtitle(\"Game by user_id vs date\")\n",
    " + theme(figure_size=(6, 4), axis_text_x=element_text(rotation=90, hjust=1), ) \n",
    ")"
   ]
  },
  {
   "cell_type": "code",
   "execution_count": null,
   "id": "68099e14",
   "metadata": {
    "ExecuteTime": {
     "end_time": "2023-04-17T21:56:42.355281Z",
     "start_time": "2023-04-17T21:56:41.453896Z"
    }
   },
   "outputs": [],
   "source": [
    "(ggplot(\n",
    "   corrected_equivacards_events, aes('user_game_index', fill= 'factor(event_name)'))\n",
    "+ geom_bar(stat='count', position= 'stack')\n",
    " + facet_grid('user_id ~', scales ='free', )\n",
    " + theme(figure_size=(4, 10), axis_text_x=element_text(rotation=90, hjust=1), strip_text_y = element_text(angle = 0)) \n",
    " + labs(x= \"User Game Index\", y=\"Event count\")\n",
    " + ggtitle(\"Game events by user_id\")\n",
    ")"
   ]
  },
  {
   "cell_type": "markdown",
   "id": "f9ba1a54",
   "metadata": {},
   "source": [
    "## Cursory comparison of best move 0 to taken move 0"
   ]
  },
  {
   "cell_type": "code",
   "execution_count": null,
   "id": "70d6ebf4",
   "metadata": {},
   "outputs": [],
   "source": [
    "corrected_equivacards_events['previous_best_move_0'] = corrected_equivacards_events.groupby('user_id').best_play_turn_0_label.shift(2).apply(lambda x: x.replace(',', '.') if type(x)==str else None ) \n",
    "corrected_equivacards_events['made_best_move_0'] = corrected_equivacards_events.apply(lambda x: x.previous_best_move_0==x.card, axis =1) "
   ]
  },
  {
   "cell_type": "code",
   "execution_count": null,
   "id": "170917d8",
   "metadata": {},
   "outputs": [],
   "source": [
    "corrected_equivacards_events[['event_name','card', 'best_play_turn_0_label', 'previous_best_move_0', 'made_best_move_0']].head(15)"
   ]
  },
  {
   "cell_type": "code",
   "execution_count": null,
   "id": "6cde3789",
   "metadata": {},
   "outputs": [],
   "source": [
    "corrected_equivacards_events[corrected_equivacards_events.event_name=='user_turn'].groupby(['user_id', 'made_best_move_0'])['_id'].count()"
   ]
  },
  {
   "cell_type": "code",
   "execution_count": null,
   "id": "fcc27422",
   "metadata": {},
   "outputs": [],
   "source": [
    "corrected_equivacards_events"
   ]
  }
 ],
 "metadata": {
  "kernelspec": {
   "display_name": "Python 3 (ipykernel)",
   "language": "python",
   "name": "python3"
  },
  "language_info": {
   "codemirror_mode": {
    "name": "ipython",
    "version": 3
   },
   "file_extension": ".py",
   "mimetype": "text/x-python",
   "name": "python",
   "nbconvert_exporter": "python",
   "pygments_lexer": "ipython3",
   "version": "3.10.6"
  }
 },
 "nbformat": 4,
 "nbformat_minor": 5
}
